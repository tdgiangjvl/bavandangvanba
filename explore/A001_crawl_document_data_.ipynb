{
 "cells": [
  {
   "cell_type": "markdown",
   "metadata": {},
   "source": [
    "# song crawler"
   ]
  },
  {
   "cell_type": "code",
   "execution_count": null,
   "metadata": {},
   "outputs": [],
   "source": [
    "import requests\n",
    "from bs4 import BeautifulSoup\n",
    "pages = range(1,1730)\n",
    "menu_page = 'https://lyricvn.com/tag/viet-nam/page/{}/'\n",
    "song_pages = set()\n",
    "for page_idx in pages:\n",
    "    url = menu_page.format(page_idx)\n",
    "    response = requests.get(url)\n",
    "    content = response.content\n",
    "    soup = BeautifulSoup(content, \"html.parser\")\n",
    "    for tag in soup.find_all('a'):\n",
    "        if 'lyricvn.com/loi-bai-hat' in tag.get('href'):\n",
    "            song_pages.add(tag.get('href'))\n",
    "    if page_idx % 100 == 0:\n",
    "        print('Processed {} pages'.format(page_idx))"
   ]
  },
  {
   "cell_type": "code",
   "execution_count": null,
   "metadata": {},
   "outputs": [],
   "source": [
    "import pandas as pd\n",
    "list_song_pages = list(song_pages)\n",
    "file_paths = []\n",
    "segment_file_paths = []\n",
    "chunk = 0 \n",
    "for url_idx,url in enumerate(list_song_pages):\n",
    "    if url_idx % 100 == 0:\n",
    "        chunk += 1\n",
    "    file_name = url.replace('https://lyricvn.com/','').replace('/','')+'.txt'\n",
    "    file_paths.append(f\"raw/chunk_{chunk}/{file_name}\")\n",
    "    segment_file_paths.append(f\"segment/chunk_{chunk}/segment_{file_name}\")\n",
    "    \n",
    "\n",
    "pd_songs = pd.DataFrame(list_song_pages,columns=['song_url'])\n",
    "pd_songs['file_path'] = file_paths\n",
    "pd_songs['segment_file_path'] = segment_file_paths\n",
    "pd_songs.to_csv('data/song_from_lyricvn_com/songs_meta_data.csv',index=False)"
   ]
  },
  {
   "cell_type": "code",
   "execution_count": null,
   "metadata": {},
   "outputs": [],
   "source": [
    "import pandas as pd\n",
    "import os\n",
    "loaded_pd_songs = pd.read_csv('data/songs_meta_data.csv')\n",
    "for idx, (url, file_path) in enumerate(loaded_pd_songs.values):\n",
    "    abs_file_path = \"data/\"+file_path\n",
    "    if os.path.exists(abs_file_path):\n",
    "        continue\n",
    "    response = requests.get(url)\n",
    "    content = response.content\n",
    "    soup = BeautifulSoup(content, \"html.parser\")\n",
    "    os.makedirs(os.path.dirname(abs_file_path), exist_ok=True)\n",
    "    with open(abs_file_path,'w+') as f:\n",
    "        for tag in soup.find_all('p'):\n",
    "            br_tags = tag.find_all('br')\n",
    "            for br_tag in br_tags:\n",
    "                br_tag.replace_with(\"\\n\")\n",
    "            content = tag.get_text() +'\\n'\n",
    "            if len(content) > 2:\n",
    "                f.write(content+'\\n')\n",
    "    if idx %100 == 0:\n",
    "        print('Processed {} pages'.format(idx))\n",
    "    "
   ]
  },
  {
   "cell_type": "markdown",
   "metadata": {},
   "source": [
    "# novel cralwer"
   ]
  },
  {
   "cell_type": "code",
   "execution_count": null,
   "metadata": {},
   "outputs": [],
   "source": []
  },
  {
   "cell_type": "code",
   "execution_count": null,
   "metadata": {},
   "outputs": [],
   "source": [
    "\n",
    "import os\n",
    "import requests\n",
    "from bs4 import BeautifulSoup\n",
    "import pandas as pd\n",
    "\n",
    "link_truyen:str = 'https://truyen.tangthuvien.vn/doc-truyen/{ten_truyen}/chuong-{chuong}'\n",
    "so_chuong_truyen = {\n",
    "    \"ta-xac-chet-phong-dang-khong-bi-troi-buoc\" : 151,\n",
    "    \"thien-dao-do-thu-quan-convert\": 2264,\n",
    "    \"tu-chan-lieu-thien-quan\": 3171,\n",
    "    \"xuyen-nhanh-nam-than-co-chu%CC%81t-chay!\" : 2652,\n",
    "    \"nu-phu-khong-lan-vao-khoai-xuyen\" : 475,\n",
    "    \"dap-noi-ban-sat-di-hoc\" : 337,\n",
    "    \"xuyen-thu-tho-he-kho-nu\" : 252,\n",
    "    \"nhan-vat-phan-dien-hom-nay-cung-that-ngoan\" : 1192,\n",
    "    \"khoai-xuyen-he-thong-nhan-vat-phan-dien-boss-dot-kich!\" : 1666,\n",
    "    \"tieu-yeu-the\" : 758,\n",
    "    \"su-phu-lai-rot-tuyen\" : 704,\n",
    "    \"khoai-xuyen-moi-lan-deu-la-ta-nam-thuong\" : 2020,\n",
    "    \"khai-cuc-nu-ma-dau-phu-ta\": 1144,\n",
    "    \"than-dao-dan-ton\": 4934,\n",
    "    \"cau-tai-yeu-vu-loan-the-tu-tien\": 959,\n",
    "    \"so-menh-chi-hoan-tuc-menh-chi-hoan\": 207,\n",
    "    \"thuy-nhuong-tha-tu-tien-dich!--ai-bao-han-tu-tien!\": 458,\n",
    "    \"moi-ngay-deu-cach-hien-hinh-cang-gan-mot-buoc-moi-thien-do-ly-hien-hinh-canh-can-nhat-bo\": 503,\n",
    "    \"cac-nguoi-tu-tien-ta-lam-ruong\": 444,\n",
    "    \"ta-co-mot-vien-xuc-xac-van-menh-ma-thuat\": 276,\n",
    "    \"di-hoa-do-thi\": 2500,\n",
    "    \"my-thuc-cung-ung-thuong\": 2734,\n",
    "    \"di-thuong-sinh-vat-kien-van-luc\": 1778,\n",
    "}\n",
    "\n",
    "base_data = '/home/giangtran/working/bavandangvanba/data/truyen_from_tangthuvien_vn/'\n",
    "cols = ['ten_truyen','truyen_url','file_path','segment_file_path']\n",
    "truyen_meta_data = []\n",
    "for ten_truyen in so_chuong_truyen:\n",
    "    abs_folder = base_data+ten_truyen+'/'\n",
    "    os.makedirs(os.path.dirname(abs_folder), exist_ok=True)\n",
    "    os.makedirs(os.path.dirname(abs_folder+'raw/'), exist_ok=True)\n",
    "    os.makedirs(os.path.dirname(abs_folder+'segment/'), exist_ok=True)\n",
    "    for chuong in range(1,so_chuong_truyen[ten_truyen] + 1):\n",
    "        raw_file_path  = abs_folder+f\"raw/chuong_{chuong}\"+'.txt'\n",
    "        segment_file_paths  = abs_folder+f\"segment/chuong_{chuong}\"+'.txt'\n",
    "        link = link_truyen.format(ten_truyen=ten_truyen,chuong=chuong)\n",
    "        truyen_meta_data.append([ten_truyen,link,raw_file_path,segment_file_paths])\n",
    "\n",
    "        if os.path.exists(raw_file_path) :\n",
    "            print(f\"Skip {chuong} chuong : {ten_truyen}\")\n",
    "            continue\n",
    "        response = requests.get(link)\n",
    "        content = response.content\n",
    "        soup = BeautifulSoup(content, \"html.parser\")\n",
    "        \n",
    "        tags = soup.find_all('div', class_=lambda x: x and x.startswith('box-chap'))\n",
    "        text= \"\"\n",
    "        for tag in tags:\n",
    "            text += tag.get_text() + \" \"\n",
    "        with open(raw_file_path,'w+') as f:\n",
    "            f.write(text)\n",
    "    print(f\"Done {chuong} chuong : {ten_truyen}\")\n",
    "\n",
    "pd_truyen = pd.DataFrame(truyen_meta_data,columns=cols)\n",
    "pd_truyen.to_csv('/home/giangtran/working/bavandangvanba/data/truyen_from_tangthuvien_vn/truyen_meta_data.csv',index=False)"
   ]
  },
  {
   "cell_type": "code",
   "execution_count": null,
   "metadata": {},
   "outputs": [],
   "source": [
    "for i in so_chuong_truyen:\n",
    "    print(i)"
   ]
  },
  {
   "cell_type": "code",
   "execution_count": null,
   "metadata": {},
   "outputs": [],
   "source": [
    "loaded_pd_songs = pd.read_csv('data/song_from_lyricvn_com/songs_meta_data.csv')\n",
    "for idx, (url, file_path) in enumerate(loaded_pd_songs.values):\n",
    "    abs_file_path = \"data/\"+file_path\n",
    "    content = open(abs_file_path,'r').read()\n",
    "    break"
   ]
  },
  {
   "cell_type": "code",
   "execution_count": null,
   "metadata": {},
   "outputs": [],
   "source": [
    "print(content)"
   ]
  },
  {
   "cell_type": "code",
   "execution_count": null,
   "metadata": {},
   "outputs": [],
   "source": [
    "so_chuong_truyen = {\n",
    "    \"ta-xac-chet-phong-dang-khong-bi-troi-buoc\" : 151,\n",
    "    \"thien-dao-do-thu-quan-convert\": 2264,\n",
    "    \"tu-chan-lieu-thien-quan\": 3171,\n",
    "    \"xuyen-nhanh-nam-than-co-chu%CC%81t-chay!\" : 2652,\n",
    "    \"nu-phu-khong-lan-vao-khoai-xuyen\" : 475,\n",
    "    \"dap-noi-ban-sat-di-hoc\" : 337,\n",
    "    \"xuyen-thu-tho-he-kho-nu\" : 252,\n",
    "    \"nhan-vat-phan-dien-hom-nay-cung-that-ngoan\" : 1192,\n",
    "    \"khoai-xuyen-he-thong-nhan-vat-phan-dien-boss-dot-kich!\" : 1666,\n",
    "    \"tieu-yeu-the\" : 758,\n",
    "    \"su-phu-lai-rot-tuyen\" : 704,\n",
    "    \"khoai-xuyen-moi-lan-deu-la-ta-nam-thuong\" : 2020,\n",
    "    \"khai-cuc-nu-ma-dau-phu-ta\": 1144,\n",
    "    \"cau-tai-yeu-vu-loan-the-tu-tien\": 932,\n",
    "    \"than-dao-dan-ton\": 4934,\n",
    "}\n",
    "sum(map(lambda x: so_chuong_truyen[x], so_chuong_truyen))"
   ]
  },
  {
   "cell_type": "markdown",
   "metadata": {},
   "source": [
    "# crawl thivien"
   ]
  },
  {
   "cell_type": "code",
   "execution_count": 2,
   "metadata": {},
   "outputs": [],
   "source": [
    "import os\n",
    "import sys\n",
    "import logging\n",
    "PRJ_BASE ='/mnt/d/personal_working/bavandangvanba'\n",
    "base_path = PRJ_BASE\n",
    "sys.path.append(base_path)"
   ]
  },
  {
   "cell_type": "code",
   "execution_count": 3,
   "metadata": {},
   "outputs": [],
   "source": [
    "import sqlite3\n",
    "\n",
    "# Connect to the SQLite database\n",
    "conn = sqlite3.connect(os.path.join(PRJ_BASE,'app_metadata/example.db'))\n",
    "\n",
    "# Create a cursor object to execute SQL queries\n",
    "cursor = conn.cursor()\n",
    "\n",
    "sql_query = 'SELECT * FROM van_indexing'\n",
    "\n",
    "# Execute the SQL query\n",
    "cursor.execute(sql_query)\n",
    "\n",
    "# Fetch all results\n",
    "rows = cursor.fetchall()\n",
    "\n",
    "# Don't forget to close the cursor and connection when done\n",
    "cursor.close()\n",
    "conn.close()"
   ]
  },
  {
   "cell_type": "code",
   "execution_count": 4,
   "metadata": {},
   "outputs": [],
   "source": [
    "words = set()\n",
    "for row in rows:\n",
    "    tmp_words = [word.strip().lower() for word in row[1].split('\\n')]\n",
    "    words.update(tmp_words)\n",
    "    "
   ]
  },
  {
   "cell_type": "code",
   "execution_count": 5,
   "metadata": {},
   "outputs": [
    {
     "data": {
      "text/plain": [
       "14448959"
      ]
     },
     "execution_count": 5,
     "metadata": {},
     "output_type": "execute_result"
    }
   ],
   "source": [
    "len(words)"
   ]
  },
  {
   "cell_type": "code",
   "execution_count": 6,
   "metadata": {},
   "outputs": [
    {
     "name": "stdout",
     "output_type": "stream",
     "text": [
      "Processed 0 words\n",
      "No matching elements were found.\n",
      "No matching elements were found.\n",
      "No matching elements were found.\n",
      "No matching elements were found.\n",
      "No matching elements were found.\n",
      "No matching elements were found.\n",
      "No matching elements were found.\n",
      "No matching elements were found.\n",
      "No matching elements were found.\n",
      "No matching elements were found.\n",
      "No matching elements were found.\n",
      "No matching elements were found.\n",
      "No matching elements were found.\n",
      "No matching elements were found.\n",
      "No matching elements were found.\n",
      "No matching elements were found.\n",
      "No matching elements were found.\n",
      "No matching elements were found.\n",
      "No matching elements were found.\n",
      "No matching elements were found.\n",
      "No matching elements were found.\n",
      "No matching elements were found.\n",
      "No matching elements were found.\n",
      "No matching elements were found.\n",
      "No matching elements were found.\n",
      "No matching elements were found.\n",
      "No matching elements were found.\n",
      "No matching elements were found.\n",
      "No matching elements were found.\n",
      "No matching elements were found.\n",
      "No matching elements were found.\n",
      "No matching elements were found.\n",
      "No matching elements were found.\n",
      "No matching elements were found.\n",
      "No matching elements were found.\n",
      "No matching elements were found.\n",
      "No matching elements were found.\n",
      "No matching elements were found.\n",
      "No matching elements were found.\n",
      "No matching elements were found.\n",
      "No matching elements were found.\n",
      "No matching elements were found.\n",
      "No matching elements were found.\n",
      "No matching elements were found.\n",
      "No matching elements were found.\n",
      "No matching elements were found.\n",
      "No matching elements were found.\n",
      "No matching elements were found.\n",
      "No matching elements were found.\n",
      "No matching elements were found.\n",
      "No matching elements were found.\n",
      "No matching elements were found.\n",
      "No matching elements were found.\n",
      "No matching elements were found.\n",
      "No matching elements were found.\n",
      "No matching elements were found.\n",
      "No matching elements were found.\n",
      "No matching elements were found.\n",
      "No matching elements were found.\n",
      "No matching elements were found.\n",
      "No matching elements were found.\n",
      "No matching elements were found.\n",
      "No matching elements were found.\n",
      "No matching elements were found.\n",
      "No matching elements were found.\n",
      "No matching elements were found.\n",
      "No matching elements were found.\n",
      "No matching elements were found.\n",
      "No matching elements were found.\n",
      "No matching elements were found.\n",
      "No matching elements were found.\n",
      "No matching elements were found.\n",
      "No matching elements were found.\n",
      "No matching elements were found.\n",
      "No matching elements were found.\n",
      "No matching elements were found.\n",
      "No matching elements were found.\n",
      "No matching elements were found.\n",
      "No matching elements were found.\n",
      "No matching elements were found.\n",
      "No matching elements were found.\n",
      "No matching elements were found.\n",
      "No matching elements were found.\n",
      "No matching elements were found.\n",
      "No matching elements were found.\n",
      "No matching elements were found.\n",
      "No matching elements were found.\n",
      "No matching elements were found.\n",
      "No matching elements were found.\n",
      "No matching elements were found.\n",
      "No matching elements were found.\n",
      "No matching elements were found.\n",
      "No matching elements were found.\n",
      "No matching elements were found.\n",
      "No matching elements were found.\n",
      "No matching elements were found.\n",
      "No matching elements were found.\n",
      "No matching elements were found.\n",
      "No matching elements were found.\n",
      "No matching elements were found.\n",
      "No matching elements were found.\n",
      "No matching elements were found.\n",
      "No matching elements were found.\n",
      "No matching elements were found.\n",
      "No matching elements were found.\n",
      "No matching elements were found.\n",
      "No matching elements were found.\n",
      "No matching elements were found.\n",
      "No matching elements were found.\n",
      "No matching elements were found.\n",
      "No matching elements were found.\n",
      "No matching elements were found.\n",
      "No matching elements were found.\n",
      "No matching elements were found.\n",
      "No matching elements were found.\n",
      "No matching elements were found.\n",
      "No matching elements were found.\n",
      "No matching elements were found.\n",
      "No matching elements were found.\n",
      "No matching elements were found.\n",
      "No matching elements were found.\n",
      "No matching elements were found.\n",
      "No matching elements were found.\n",
      "No matching elements were found.\n",
      "No matching elements were found.\n",
      "No matching elements were found.\n",
      "No matching elements were found.\n",
      "No matching elements were found.\n",
      "No matching elements were found.\n",
      "No matching elements were found.\n",
      "No matching elements were found.\n",
      "No matching elements were found.\n",
      "No matching elements were found.\n",
      "No matching elements were found.\n",
      "No matching elements were found.\n",
      "No matching elements were found.\n",
      "No matching elements were found.\n",
      "No matching elements were found.\n",
      "No matching elements were found.\n",
      "No matching elements were found.\n",
      "No matching elements were found.\n",
      "No matching elements were found.\n",
      "No matching elements were found.\n",
      "No matching elements were found.\n",
      "No matching elements were found.\n",
      "No matching elements were found.\n",
      "No matching elements were found.\n"
     ]
    },
    {
     "ename": "KeyboardInterrupt",
     "evalue": "",
     "output_type": "error",
     "traceback": [
      "\u001b[0;31m---------------------------------------------------------------------------\u001b[0m",
      "\u001b[0;31mKeyboardInterrupt\u001b[0m                         Traceback (most recent call last)",
      "Cell \u001b[0;32mIn[6], line 20\u001b[0m\n\u001b[1;32m     18\u001b[0m     pd\u001b[38;5;241m.\u001b[39mto_pickle(poem_urls,os\u001b[38;5;241m.\u001b[39mpath\u001b[38;5;241m.\u001b[39mjoin(PRJ_BASE,\u001b[38;5;124m'\u001b[39m\u001b[38;5;124mtmp/poem_urls.pkl\u001b[39m\u001b[38;5;124m'\u001b[39m))\n\u001b[1;32m     19\u001b[0m \u001b[38;5;28;01mfor\u001b[39;00m page \u001b[38;5;129;01min\u001b[39;00m \u001b[38;5;28mrange\u001b[39m(\u001b[38;5;241m1\u001b[39m, \u001b[38;5;241m10\u001b[39m):\n\u001b[0;32m---> 20\u001b[0m     response \u001b[38;5;241m=\u001b[39m \u001b[43mrequests\u001b[49m\u001b[38;5;241;43m.\u001b[39;49m\u001b[43mget\u001b[49m\u001b[43m(\u001b[49m\u001b[43murl\u001b[49m\u001b[38;5;241;43m.\u001b[39;49m\u001b[43mformat\u001b[49m\u001b[43m(\u001b[49m\u001b[43mword\u001b[49m\u001b[38;5;241;43m=\u001b[39;49m\u001b[43mword\u001b[49m\u001b[43m,\u001b[49m\u001b[43m \u001b[49m\u001b[43mpage\u001b[49m\u001b[38;5;241;43m=\u001b[39;49m\u001b[43mpage\u001b[49m\u001b[43m)\u001b[49m\u001b[43m,\u001b[49m\u001b[43m \u001b[49m\u001b[43mheaders\u001b[49m\u001b[38;5;241;43m=\u001b[39;49m\u001b[43mheaders\u001b[49m\u001b[43m)\u001b[49m\n\u001b[1;32m     21\u001b[0m     \u001b[38;5;28;01mif\u001b[39;00m response\u001b[38;5;241m.\u001b[39mstatus_code \u001b[38;5;241m==\u001b[39m \u001b[38;5;241m200\u001b[39m:\n\u001b[1;32m     22\u001b[0m         \u001b[38;5;66;03m# Parse the HTML content\u001b[39;00m\n\u001b[1;32m     23\u001b[0m         soup \u001b[38;5;241m=\u001b[39m BeautifulSoup(response\u001b[38;5;241m.\u001b[39mcontent, \u001b[38;5;124m'\u001b[39m\u001b[38;5;124mhtml.parser\u001b[39m\u001b[38;5;124m'\u001b[39m)\n",
      "File \u001b[0;32m~/miniconda3/envs/sd_env/lib/python3.11/site-packages/requests/api.py:73\u001b[0m, in \u001b[0;36mget\u001b[0;34m(url, params, **kwargs)\u001b[0m\n\u001b[1;32m     62\u001b[0m \u001b[38;5;28;01mdef\u001b[39;00m \u001b[38;5;21mget\u001b[39m(url, params\u001b[38;5;241m=\u001b[39m\u001b[38;5;28;01mNone\u001b[39;00m, \u001b[38;5;241m*\u001b[39m\u001b[38;5;241m*\u001b[39mkwargs):\n\u001b[1;32m     63\u001b[0m \u001b[38;5;250m    \u001b[39m\u001b[38;5;124mr\u001b[39m\u001b[38;5;124;03m\"\"\"Sends a GET request.\u001b[39;00m\n\u001b[1;32m     64\u001b[0m \n\u001b[1;32m     65\u001b[0m \u001b[38;5;124;03m    :param url: URL for the new :class:`Request` object.\u001b[39;00m\n\u001b[0;32m   (...)\u001b[0m\n\u001b[1;32m     70\u001b[0m \u001b[38;5;124;03m    :rtype: requests.Response\u001b[39;00m\n\u001b[1;32m     71\u001b[0m \u001b[38;5;124;03m    \"\"\"\u001b[39;00m\n\u001b[0;32m---> 73\u001b[0m     \u001b[38;5;28;01mreturn\u001b[39;00m \u001b[43mrequest\u001b[49m\u001b[43m(\u001b[49m\u001b[38;5;124;43m\"\u001b[39;49m\u001b[38;5;124;43mget\u001b[39;49m\u001b[38;5;124;43m\"\u001b[39;49m\u001b[43m,\u001b[49m\u001b[43m \u001b[49m\u001b[43murl\u001b[49m\u001b[43m,\u001b[49m\u001b[43m \u001b[49m\u001b[43mparams\u001b[49m\u001b[38;5;241;43m=\u001b[39;49m\u001b[43mparams\u001b[49m\u001b[43m,\u001b[49m\u001b[43m \u001b[49m\u001b[38;5;241;43m*\u001b[39;49m\u001b[38;5;241;43m*\u001b[39;49m\u001b[43mkwargs\u001b[49m\u001b[43m)\u001b[49m\n",
      "File \u001b[0;32m~/miniconda3/envs/sd_env/lib/python3.11/site-packages/requests/api.py:59\u001b[0m, in \u001b[0;36mrequest\u001b[0;34m(method, url, **kwargs)\u001b[0m\n\u001b[1;32m     55\u001b[0m \u001b[38;5;66;03m# By using the 'with' statement we are sure the session is closed, thus we\u001b[39;00m\n\u001b[1;32m     56\u001b[0m \u001b[38;5;66;03m# avoid leaving sockets open which can trigger a ResourceWarning in some\u001b[39;00m\n\u001b[1;32m     57\u001b[0m \u001b[38;5;66;03m# cases, and look like a memory leak in others.\u001b[39;00m\n\u001b[1;32m     58\u001b[0m \u001b[38;5;28;01mwith\u001b[39;00m sessions\u001b[38;5;241m.\u001b[39mSession() \u001b[38;5;28;01mas\u001b[39;00m session:\n\u001b[0;32m---> 59\u001b[0m     \u001b[38;5;28;01mreturn\u001b[39;00m \u001b[43msession\u001b[49m\u001b[38;5;241;43m.\u001b[39;49m\u001b[43mrequest\u001b[49m\u001b[43m(\u001b[49m\u001b[43mmethod\u001b[49m\u001b[38;5;241;43m=\u001b[39;49m\u001b[43mmethod\u001b[49m\u001b[43m,\u001b[49m\u001b[43m \u001b[49m\u001b[43murl\u001b[49m\u001b[38;5;241;43m=\u001b[39;49m\u001b[43murl\u001b[49m\u001b[43m,\u001b[49m\u001b[43m \u001b[49m\u001b[38;5;241;43m*\u001b[39;49m\u001b[38;5;241;43m*\u001b[39;49m\u001b[43mkwargs\u001b[49m\u001b[43m)\u001b[49m\n",
      "File \u001b[0;32m~/miniconda3/envs/sd_env/lib/python3.11/site-packages/requests/sessions.py:589\u001b[0m, in \u001b[0;36mSession.request\u001b[0;34m(self, method, url, params, data, headers, cookies, files, auth, timeout, allow_redirects, proxies, hooks, stream, verify, cert, json)\u001b[0m\n\u001b[1;32m    584\u001b[0m send_kwargs \u001b[38;5;241m=\u001b[39m {\n\u001b[1;32m    585\u001b[0m     \u001b[38;5;124m\"\u001b[39m\u001b[38;5;124mtimeout\u001b[39m\u001b[38;5;124m\"\u001b[39m: timeout,\n\u001b[1;32m    586\u001b[0m     \u001b[38;5;124m\"\u001b[39m\u001b[38;5;124mallow_redirects\u001b[39m\u001b[38;5;124m\"\u001b[39m: allow_redirects,\n\u001b[1;32m    587\u001b[0m }\n\u001b[1;32m    588\u001b[0m send_kwargs\u001b[38;5;241m.\u001b[39mupdate(settings)\n\u001b[0;32m--> 589\u001b[0m resp \u001b[38;5;241m=\u001b[39m \u001b[38;5;28;43mself\u001b[39;49m\u001b[38;5;241;43m.\u001b[39;49m\u001b[43msend\u001b[49m\u001b[43m(\u001b[49m\u001b[43mprep\u001b[49m\u001b[43m,\u001b[49m\u001b[43m \u001b[49m\u001b[38;5;241;43m*\u001b[39;49m\u001b[38;5;241;43m*\u001b[39;49m\u001b[43msend_kwargs\u001b[49m\u001b[43m)\u001b[49m\n\u001b[1;32m    591\u001b[0m \u001b[38;5;28;01mreturn\u001b[39;00m resp\n",
      "File \u001b[0;32m~/miniconda3/envs/sd_env/lib/python3.11/site-packages/requests/sessions.py:703\u001b[0m, in \u001b[0;36mSession.send\u001b[0;34m(self, request, **kwargs)\u001b[0m\n\u001b[1;32m    700\u001b[0m start \u001b[38;5;241m=\u001b[39m preferred_clock()\n\u001b[1;32m    702\u001b[0m \u001b[38;5;66;03m# Send the request\u001b[39;00m\n\u001b[0;32m--> 703\u001b[0m r \u001b[38;5;241m=\u001b[39m \u001b[43madapter\u001b[49m\u001b[38;5;241;43m.\u001b[39;49m\u001b[43msend\u001b[49m\u001b[43m(\u001b[49m\u001b[43mrequest\u001b[49m\u001b[43m,\u001b[49m\u001b[43m \u001b[49m\u001b[38;5;241;43m*\u001b[39;49m\u001b[38;5;241;43m*\u001b[39;49m\u001b[43mkwargs\u001b[49m\u001b[43m)\u001b[49m\n\u001b[1;32m    705\u001b[0m \u001b[38;5;66;03m# Total elapsed time of the request (approximately)\u001b[39;00m\n\u001b[1;32m    706\u001b[0m elapsed \u001b[38;5;241m=\u001b[39m preferred_clock() \u001b[38;5;241m-\u001b[39m start\n",
      "File \u001b[0;32m~/miniconda3/envs/sd_env/lib/python3.11/site-packages/requests/adapters.py:486\u001b[0m, in \u001b[0;36mHTTPAdapter.send\u001b[0;34m(self, request, stream, timeout, verify, cert, proxies)\u001b[0m\n\u001b[1;32m    483\u001b[0m     timeout \u001b[38;5;241m=\u001b[39m TimeoutSauce(connect\u001b[38;5;241m=\u001b[39mtimeout, read\u001b[38;5;241m=\u001b[39mtimeout)\n\u001b[1;32m    485\u001b[0m \u001b[38;5;28;01mtry\u001b[39;00m:\n\u001b[0;32m--> 486\u001b[0m     resp \u001b[38;5;241m=\u001b[39m \u001b[43mconn\u001b[49m\u001b[38;5;241;43m.\u001b[39;49m\u001b[43murlopen\u001b[49m\u001b[43m(\u001b[49m\n\u001b[1;32m    487\u001b[0m \u001b[43m        \u001b[49m\u001b[43mmethod\u001b[49m\u001b[38;5;241;43m=\u001b[39;49m\u001b[43mrequest\u001b[49m\u001b[38;5;241;43m.\u001b[39;49m\u001b[43mmethod\u001b[49m\u001b[43m,\u001b[49m\n\u001b[1;32m    488\u001b[0m \u001b[43m        \u001b[49m\u001b[43murl\u001b[49m\u001b[38;5;241;43m=\u001b[39;49m\u001b[43murl\u001b[49m\u001b[43m,\u001b[49m\n\u001b[1;32m    489\u001b[0m \u001b[43m        \u001b[49m\u001b[43mbody\u001b[49m\u001b[38;5;241;43m=\u001b[39;49m\u001b[43mrequest\u001b[49m\u001b[38;5;241;43m.\u001b[39;49m\u001b[43mbody\u001b[49m\u001b[43m,\u001b[49m\n\u001b[1;32m    490\u001b[0m \u001b[43m        \u001b[49m\u001b[43mheaders\u001b[49m\u001b[38;5;241;43m=\u001b[39;49m\u001b[43mrequest\u001b[49m\u001b[38;5;241;43m.\u001b[39;49m\u001b[43mheaders\u001b[49m\u001b[43m,\u001b[49m\n\u001b[1;32m    491\u001b[0m \u001b[43m        \u001b[49m\u001b[43mredirect\u001b[49m\u001b[38;5;241;43m=\u001b[39;49m\u001b[38;5;28;43;01mFalse\u001b[39;49;00m\u001b[43m,\u001b[49m\n\u001b[1;32m    492\u001b[0m \u001b[43m        \u001b[49m\u001b[43massert_same_host\u001b[49m\u001b[38;5;241;43m=\u001b[39;49m\u001b[38;5;28;43;01mFalse\u001b[39;49;00m\u001b[43m,\u001b[49m\n\u001b[1;32m    493\u001b[0m \u001b[43m        \u001b[49m\u001b[43mpreload_content\u001b[49m\u001b[38;5;241;43m=\u001b[39;49m\u001b[38;5;28;43;01mFalse\u001b[39;49;00m\u001b[43m,\u001b[49m\n\u001b[1;32m    494\u001b[0m \u001b[43m        \u001b[49m\u001b[43mdecode_content\u001b[49m\u001b[38;5;241;43m=\u001b[39;49m\u001b[38;5;28;43;01mFalse\u001b[39;49;00m\u001b[43m,\u001b[49m\n\u001b[1;32m    495\u001b[0m \u001b[43m        \u001b[49m\u001b[43mretries\u001b[49m\u001b[38;5;241;43m=\u001b[39;49m\u001b[38;5;28;43mself\u001b[39;49m\u001b[38;5;241;43m.\u001b[39;49m\u001b[43mmax_retries\u001b[49m\u001b[43m,\u001b[49m\n\u001b[1;32m    496\u001b[0m \u001b[43m        \u001b[49m\u001b[43mtimeout\u001b[49m\u001b[38;5;241;43m=\u001b[39;49m\u001b[43mtimeout\u001b[49m\u001b[43m,\u001b[49m\n\u001b[1;32m    497\u001b[0m \u001b[43m        \u001b[49m\u001b[43mchunked\u001b[49m\u001b[38;5;241;43m=\u001b[39;49m\u001b[43mchunked\u001b[49m\u001b[43m,\u001b[49m\n\u001b[1;32m    498\u001b[0m \u001b[43m    \u001b[49m\u001b[43m)\u001b[49m\n\u001b[1;32m    500\u001b[0m \u001b[38;5;28;01mexcept\u001b[39;00m (ProtocolError, \u001b[38;5;167;01mOSError\u001b[39;00m) \u001b[38;5;28;01mas\u001b[39;00m err:\n\u001b[1;32m    501\u001b[0m     \u001b[38;5;28;01mraise\u001b[39;00m \u001b[38;5;167;01mConnectionError\u001b[39;00m(err, request\u001b[38;5;241m=\u001b[39mrequest)\n",
      "File \u001b[0;32m~/miniconda3/envs/sd_env/lib/python3.11/site-packages/urllib3/connectionpool.py:790\u001b[0m, in \u001b[0;36mHTTPConnectionPool.urlopen\u001b[0;34m(self, method, url, body, headers, retries, redirect, assert_same_host, timeout, pool_timeout, release_conn, chunked, body_pos, preload_content, decode_content, **response_kw)\u001b[0m\n\u001b[1;32m    787\u001b[0m response_conn \u001b[38;5;241m=\u001b[39m conn \u001b[38;5;28;01mif\u001b[39;00m \u001b[38;5;129;01mnot\u001b[39;00m release_conn \u001b[38;5;28;01melse\u001b[39;00m \u001b[38;5;28;01mNone\u001b[39;00m\n\u001b[1;32m    789\u001b[0m \u001b[38;5;66;03m# Make the request on the HTTPConnection object\u001b[39;00m\n\u001b[0;32m--> 790\u001b[0m response \u001b[38;5;241m=\u001b[39m \u001b[38;5;28;43mself\u001b[39;49m\u001b[38;5;241;43m.\u001b[39;49m\u001b[43m_make_request\u001b[49m\u001b[43m(\u001b[49m\n\u001b[1;32m    791\u001b[0m \u001b[43m    \u001b[49m\u001b[43mconn\u001b[49m\u001b[43m,\u001b[49m\n\u001b[1;32m    792\u001b[0m \u001b[43m    \u001b[49m\u001b[43mmethod\u001b[49m\u001b[43m,\u001b[49m\n\u001b[1;32m    793\u001b[0m \u001b[43m    \u001b[49m\u001b[43murl\u001b[49m\u001b[43m,\u001b[49m\n\u001b[1;32m    794\u001b[0m \u001b[43m    \u001b[49m\u001b[43mtimeout\u001b[49m\u001b[38;5;241;43m=\u001b[39;49m\u001b[43mtimeout_obj\u001b[49m\u001b[43m,\u001b[49m\n\u001b[1;32m    795\u001b[0m \u001b[43m    \u001b[49m\u001b[43mbody\u001b[49m\u001b[38;5;241;43m=\u001b[39;49m\u001b[43mbody\u001b[49m\u001b[43m,\u001b[49m\n\u001b[1;32m    796\u001b[0m \u001b[43m    \u001b[49m\u001b[43mheaders\u001b[49m\u001b[38;5;241;43m=\u001b[39;49m\u001b[43mheaders\u001b[49m\u001b[43m,\u001b[49m\n\u001b[1;32m    797\u001b[0m \u001b[43m    \u001b[49m\u001b[43mchunked\u001b[49m\u001b[38;5;241;43m=\u001b[39;49m\u001b[43mchunked\u001b[49m\u001b[43m,\u001b[49m\n\u001b[1;32m    798\u001b[0m \u001b[43m    \u001b[49m\u001b[43mretries\u001b[49m\u001b[38;5;241;43m=\u001b[39;49m\u001b[43mretries\u001b[49m\u001b[43m,\u001b[49m\n\u001b[1;32m    799\u001b[0m \u001b[43m    \u001b[49m\u001b[43mresponse_conn\u001b[49m\u001b[38;5;241;43m=\u001b[39;49m\u001b[43mresponse_conn\u001b[49m\u001b[43m,\u001b[49m\n\u001b[1;32m    800\u001b[0m \u001b[43m    \u001b[49m\u001b[43mpreload_content\u001b[49m\u001b[38;5;241;43m=\u001b[39;49m\u001b[43mpreload_content\u001b[49m\u001b[43m,\u001b[49m\n\u001b[1;32m    801\u001b[0m \u001b[43m    \u001b[49m\u001b[43mdecode_content\u001b[49m\u001b[38;5;241;43m=\u001b[39;49m\u001b[43mdecode_content\u001b[49m\u001b[43m,\u001b[49m\n\u001b[1;32m    802\u001b[0m \u001b[43m    \u001b[49m\u001b[38;5;241;43m*\u001b[39;49m\u001b[38;5;241;43m*\u001b[39;49m\u001b[43mresponse_kw\u001b[49m\u001b[43m,\u001b[49m\n\u001b[1;32m    803\u001b[0m \u001b[43m\u001b[49m\u001b[43m)\u001b[49m\n\u001b[1;32m    805\u001b[0m \u001b[38;5;66;03m# Everything went great!\u001b[39;00m\n\u001b[1;32m    806\u001b[0m clean_exit \u001b[38;5;241m=\u001b[39m \u001b[38;5;28;01mTrue\u001b[39;00m\n",
      "File \u001b[0;32m~/miniconda3/envs/sd_env/lib/python3.11/site-packages/urllib3/connectionpool.py:536\u001b[0m, in \u001b[0;36mHTTPConnectionPool._make_request\u001b[0;34m(self, conn, method, url, body, headers, retries, timeout, chunked, response_conn, preload_content, decode_content, enforce_content_length)\u001b[0m\n\u001b[1;32m    534\u001b[0m \u001b[38;5;66;03m# Receive the response from the server\u001b[39;00m\n\u001b[1;32m    535\u001b[0m \u001b[38;5;28;01mtry\u001b[39;00m:\n\u001b[0;32m--> 536\u001b[0m     response \u001b[38;5;241m=\u001b[39m \u001b[43mconn\u001b[49m\u001b[38;5;241;43m.\u001b[39;49m\u001b[43mgetresponse\u001b[49m\u001b[43m(\u001b[49m\u001b[43m)\u001b[49m\n\u001b[1;32m    537\u001b[0m \u001b[38;5;28;01mexcept\u001b[39;00m (BaseSSLError, \u001b[38;5;167;01mOSError\u001b[39;00m) \u001b[38;5;28;01mas\u001b[39;00m e:\n\u001b[1;32m    538\u001b[0m     \u001b[38;5;28mself\u001b[39m\u001b[38;5;241m.\u001b[39m_raise_timeout(err\u001b[38;5;241m=\u001b[39me, url\u001b[38;5;241m=\u001b[39murl, timeout_value\u001b[38;5;241m=\u001b[39mread_timeout)\n",
      "File \u001b[0;32m~/miniconda3/envs/sd_env/lib/python3.11/site-packages/urllib3/connection.py:461\u001b[0m, in \u001b[0;36mHTTPConnection.getresponse\u001b[0;34m(self)\u001b[0m\n\u001b[1;32m    458\u001b[0m \u001b[38;5;28;01mfrom\u001b[39;00m \u001b[38;5;21;01m.\u001b[39;00m\u001b[38;5;21;01mresponse\u001b[39;00m \u001b[38;5;28;01mimport\u001b[39;00m HTTPResponse\n\u001b[1;32m    460\u001b[0m \u001b[38;5;66;03m# Get the response from http.client.HTTPConnection\u001b[39;00m\n\u001b[0;32m--> 461\u001b[0m httplib_response \u001b[38;5;241m=\u001b[39m \u001b[38;5;28;43msuper\u001b[39;49m\u001b[43m(\u001b[49m\u001b[43m)\u001b[49m\u001b[38;5;241;43m.\u001b[39;49m\u001b[43mgetresponse\u001b[49m\u001b[43m(\u001b[49m\u001b[43m)\u001b[49m\n\u001b[1;32m    463\u001b[0m \u001b[38;5;28;01mtry\u001b[39;00m:\n\u001b[1;32m    464\u001b[0m     assert_header_parsing(httplib_response\u001b[38;5;241m.\u001b[39mmsg)\n",
      "File \u001b[0;32m~/miniconda3/envs/sd_env/lib/python3.11/http/client.py:1386\u001b[0m, in \u001b[0;36mHTTPConnection.getresponse\u001b[0;34m(self)\u001b[0m\n\u001b[1;32m   1384\u001b[0m \u001b[38;5;28;01mtry\u001b[39;00m:\n\u001b[1;32m   1385\u001b[0m     \u001b[38;5;28;01mtry\u001b[39;00m:\n\u001b[0;32m-> 1386\u001b[0m         \u001b[43mresponse\u001b[49m\u001b[38;5;241;43m.\u001b[39;49m\u001b[43mbegin\u001b[49m\u001b[43m(\u001b[49m\u001b[43m)\u001b[49m\n\u001b[1;32m   1387\u001b[0m     \u001b[38;5;28;01mexcept\u001b[39;00m \u001b[38;5;167;01mConnectionError\u001b[39;00m:\n\u001b[1;32m   1388\u001b[0m         \u001b[38;5;28mself\u001b[39m\u001b[38;5;241m.\u001b[39mclose()\n",
      "File \u001b[0;32m~/miniconda3/envs/sd_env/lib/python3.11/http/client.py:325\u001b[0m, in \u001b[0;36mHTTPResponse.begin\u001b[0;34m(self)\u001b[0m\n\u001b[1;32m    323\u001b[0m \u001b[38;5;66;03m# read until we get a non-100 response\u001b[39;00m\n\u001b[1;32m    324\u001b[0m \u001b[38;5;28;01mwhile\u001b[39;00m \u001b[38;5;28;01mTrue\u001b[39;00m:\n\u001b[0;32m--> 325\u001b[0m     version, status, reason \u001b[38;5;241m=\u001b[39m \u001b[38;5;28;43mself\u001b[39;49m\u001b[38;5;241;43m.\u001b[39;49m\u001b[43m_read_status\u001b[49m\u001b[43m(\u001b[49m\u001b[43m)\u001b[49m\n\u001b[1;32m    326\u001b[0m     \u001b[38;5;28;01mif\u001b[39;00m status \u001b[38;5;241m!=\u001b[39m CONTINUE:\n\u001b[1;32m    327\u001b[0m         \u001b[38;5;28;01mbreak\u001b[39;00m\n",
      "File \u001b[0;32m~/miniconda3/envs/sd_env/lib/python3.11/http/client.py:286\u001b[0m, in \u001b[0;36mHTTPResponse._read_status\u001b[0;34m(self)\u001b[0m\n\u001b[1;32m    285\u001b[0m \u001b[38;5;28;01mdef\u001b[39;00m \u001b[38;5;21m_read_status\u001b[39m(\u001b[38;5;28mself\u001b[39m):\n\u001b[0;32m--> 286\u001b[0m     line \u001b[38;5;241m=\u001b[39m \u001b[38;5;28mstr\u001b[39m(\u001b[38;5;28mself\u001b[39m\u001b[38;5;241m.\u001b[39mfp\u001b[38;5;241m.\u001b[39mreadline(_MAXLINE \u001b[38;5;241m+\u001b[39m \u001b[38;5;241m1\u001b[39m), \u001b[38;5;124m\"\u001b[39m\u001b[38;5;124miso-8859-1\u001b[39m\u001b[38;5;124m\"\u001b[39m)\n\u001b[1;32m    287\u001b[0m     \u001b[38;5;28;01mif\u001b[39;00m \u001b[38;5;28mlen\u001b[39m(line) \u001b[38;5;241m>\u001b[39m _MAXLINE:\n\u001b[1;32m    288\u001b[0m         \u001b[38;5;28;01mraise\u001b[39;00m LineTooLong(\u001b[38;5;124m\"\u001b[39m\u001b[38;5;124mstatus line\u001b[39m\u001b[38;5;124m\"\u001b[39m)\n",
      "File \u001b[0;32m~/miniconda3/envs/sd_env/lib/python3.11/socket.py:706\u001b[0m, in \u001b[0;36mSocketIO.readinto\u001b[0;34m(self, b)\u001b[0m\n\u001b[1;32m    704\u001b[0m \u001b[38;5;28;01mwhile\u001b[39;00m \u001b[38;5;28;01mTrue\u001b[39;00m:\n\u001b[1;32m    705\u001b[0m     \u001b[38;5;28;01mtry\u001b[39;00m:\n\u001b[0;32m--> 706\u001b[0m         \u001b[38;5;28;01mreturn\u001b[39;00m \u001b[38;5;28;43mself\u001b[39;49m\u001b[38;5;241;43m.\u001b[39;49m\u001b[43m_sock\u001b[49m\u001b[38;5;241;43m.\u001b[39;49m\u001b[43mrecv_into\u001b[49m\u001b[43m(\u001b[49m\u001b[43mb\u001b[49m\u001b[43m)\u001b[49m\n\u001b[1;32m    707\u001b[0m     \u001b[38;5;28;01mexcept\u001b[39;00m timeout:\n\u001b[1;32m    708\u001b[0m         \u001b[38;5;28mself\u001b[39m\u001b[38;5;241m.\u001b[39m_timeout_occurred \u001b[38;5;241m=\u001b[39m \u001b[38;5;28;01mTrue\u001b[39;00m\n",
      "File \u001b[0;32m~/miniconda3/envs/sd_env/lib/python3.11/ssl.py:1315\u001b[0m, in \u001b[0;36mSSLSocket.recv_into\u001b[0;34m(self, buffer, nbytes, flags)\u001b[0m\n\u001b[1;32m   1311\u001b[0m     \u001b[38;5;28;01mif\u001b[39;00m flags \u001b[38;5;241m!=\u001b[39m \u001b[38;5;241m0\u001b[39m:\n\u001b[1;32m   1312\u001b[0m         \u001b[38;5;28;01mraise\u001b[39;00m \u001b[38;5;167;01mValueError\u001b[39;00m(\n\u001b[1;32m   1313\u001b[0m           \u001b[38;5;124m\"\u001b[39m\u001b[38;5;124mnon-zero flags not allowed in calls to recv_into() on \u001b[39m\u001b[38;5;132;01m%s\u001b[39;00m\u001b[38;5;124m\"\u001b[39m \u001b[38;5;241m%\u001b[39m\n\u001b[1;32m   1314\u001b[0m           \u001b[38;5;28mself\u001b[39m\u001b[38;5;241m.\u001b[39m\u001b[38;5;18m__class__\u001b[39m)\n\u001b[0;32m-> 1315\u001b[0m     \u001b[38;5;28;01mreturn\u001b[39;00m \u001b[38;5;28;43mself\u001b[39;49m\u001b[38;5;241;43m.\u001b[39;49m\u001b[43mread\u001b[49m\u001b[43m(\u001b[49m\u001b[43mnbytes\u001b[49m\u001b[43m,\u001b[49m\u001b[43m \u001b[49m\u001b[43mbuffer\u001b[49m\u001b[43m)\u001b[49m\n\u001b[1;32m   1316\u001b[0m \u001b[38;5;28;01melse\u001b[39;00m:\n\u001b[1;32m   1317\u001b[0m     \u001b[38;5;28;01mreturn\u001b[39;00m \u001b[38;5;28msuper\u001b[39m()\u001b[38;5;241m.\u001b[39mrecv_into(buffer, nbytes, flags)\n",
      "File \u001b[0;32m~/miniconda3/envs/sd_env/lib/python3.11/ssl.py:1167\u001b[0m, in \u001b[0;36mSSLSocket.read\u001b[0;34m(self, len, buffer)\u001b[0m\n\u001b[1;32m   1165\u001b[0m \u001b[38;5;28;01mtry\u001b[39;00m:\n\u001b[1;32m   1166\u001b[0m     \u001b[38;5;28;01mif\u001b[39;00m buffer \u001b[38;5;129;01mis\u001b[39;00m \u001b[38;5;129;01mnot\u001b[39;00m \u001b[38;5;28;01mNone\u001b[39;00m:\n\u001b[0;32m-> 1167\u001b[0m         \u001b[38;5;28;01mreturn\u001b[39;00m \u001b[38;5;28;43mself\u001b[39;49m\u001b[38;5;241;43m.\u001b[39;49m\u001b[43m_sslobj\u001b[49m\u001b[38;5;241;43m.\u001b[39;49m\u001b[43mread\u001b[49m\u001b[43m(\u001b[49m\u001b[38;5;28;43mlen\u001b[39;49m\u001b[43m,\u001b[49m\u001b[43m \u001b[49m\u001b[43mbuffer\u001b[49m\u001b[43m)\u001b[49m\n\u001b[1;32m   1168\u001b[0m     \u001b[38;5;28;01melse\u001b[39;00m:\n\u001b[1;32m   1169\u001b[0m         \u001b[38;5;28;01mreturn\u001b[39;00m \u001b[38;5;28mself\u001b[39m\u001b[38;5;241m.\u001b[39m_sslobj\u001b[38;5;241m.\u001b[39mread(\u001b[38;5;28mlen\u001b[39m)\n",
      "\u001b[0;31mKeyboardInterrupt\u001b[0m: "
     ]
    }
   ],
   "source": [
    "import requests\n",
    "from bs4 import BeautifulSoup\n",
    "import pandas as pd\n",
    "\n",
    "headers = {\n",
    "    'User-Agent': 'Mozilla/5.0 (Windows NT 10.0; Win64; x64) AppleWebKit/537.36 (KHTML, like Gecko) Chrome/58.0.3029.110 Safari/537.3'\n",
    "}\n",
    "\n",
    "url = 'https://www.thivien.net/searchpoem.php?Title={word}&ViewType=1&Page={page}'\n",
    "\n",
    "if os.path.exists(os.path.join(PRJ_BASE,'tmp/poem_urls.pkl')):\n",
    "    poem_urls = pd.read_pickle(os.path.join(PRJ_BASE,'tmp/poem_urls.pkl'))\n",
    "else:\n",
    "    poem_urls = set()\n",
    "for word_idx,word in enumerate(words):\n",
    "    if word_idx % 100 == 0:\n",
    "        print(f\"Processed {word_idx} words\")\n",
    "        pd.to_pickle(poem_urls,os.path.join(PRJ_BASE,'tmp/poem_urls.pkl'))\n",
    "    for page in range(1, 10):\n",
    "        response = requests.get(url.format(word=word, page=page), headers=headers)\n",
    "        if response.status_code == 200:\n",
    "            # Parse the HTML content\n",
    "            soup = BeautifulSoup(response.content, 'html.parser')\n",
    "            \n",
    "            # Find all elements by their class name\n",
    "            elements = soup.find_all('h4', class_='list-item-header')\n",
    "            \n",
    "            # Check if any elements were found\n",
    "            if elements:\n",
    "                for element in elements:\n",
    "                    # Extract the text from the <a> tag within the <h4> tag\n",
    "                    link_text = element.get_text(strip=True) if element.a else 'No text'\n",
    "                    \n",
    "                    # Extract the href attribute from the <a> tag to get the relative URL\n",
    "                    link_url = element.a.get('href', 'No URL') if element.a else 'No URL'\n",
    "                    \n",
    "                    # Combine the site's base URL with the extracted relative URL, if necessary\n",
    "                    complete_url = requests.compat.urljoin(url, link_url) if link_url != 'No URL' else 'No URL'\n",
    "\n",
    "                    poem_urls.add(complete_url)\n",
    "            else:\n",
    "                print('No matching elements were found.')\n",
    "        else:\n",
    "            print('Failed to retrieve the webpage')"
   ]
  },
  {
   "cell_type": "code",
   "execution_count": 8,
   "metadata": {},
   "outputs": [
    {
     "data": {
      "text/plain": [
       "'https://www.thivien.net/searchpoem.php?Title=giữ trọn thế giới&ViewType=1&Page=4'"
      ]
     },
     "execution_count": 8,
     "metadata": {},
     "output_type": "execute_result"
    }
   ],
   "source": [
    "url.format(word=word, page=page)"
   ]
  },
  {
   "cell_type": "code",
   "execution_count": 7,
   "metadata": {},
   "outputs": [
    {
     "data": {
      "text/plain": [
       "set()"
      ]
     },
     "execution_count": 7,
     "metadata": {},
     "output_type": "execute_result"
    }
   ],
   "source": [
    "poem_urls"
   ]
  },
  {
   "cell_type": "code",
   "execution_count": null,
   "metadata": {},
   "outputs": [],
   "source": []
  }
 ],
 "metadata": {
  "kernelspec": {
   "display_name": "nlp_env",
   "language": "python",
   "name": "python3"
  },
  "language_info": {
   "codemirror_mode": {
    "name": "ipython",
    "version": 3
   },
   "file_extension": ".py",
   "mimetype": "text/x-python",
   "name": "python",
   "nbconvert_exporter": "python",
   "pygments_lexer": "ipython3",
   "version": "3.11.7"
  },
  "orig_nbformat": 4
 },
 "nbformat": 4,
 "nbformat_minor": 2
}
