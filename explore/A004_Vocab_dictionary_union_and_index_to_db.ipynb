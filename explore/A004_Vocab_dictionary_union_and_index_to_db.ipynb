{
 "cells": [
  {
   "cell_type": "markdown",
   "metadata": {},
   "source": [
    "# indexing the rhyme"
   ]
  },
  {
   "cell_type": "code",
   "execution_count": 1,
   "metadata": {},
   "outputs": [
    {
     "name": "stdout",
     "output_type": "stream",
     "text": [
      "/mnt/d/personal_working/bavandangvanba/\n"
     ]
    }
   ],
   "source": [
    "import os\n",
    "import sys\n",
    "import logging\n",
    "PRJ_BASE ='/mnt/d/personal_working/bavandangvanba'\n",
    "base_path = PRJ_BASE\n",
    "sys.path.append(base_path)\n",
    "from core.utils import (\n",
    "    vn_grammar_handler,\n",
    "    db_handler,\n",
    "    init_logger)\n",
    "init_logger()"
   ]
  },
  {
   "cell_type": "code",
   "execution_count": 2,
   "metadata": {},
   "outputs": [
    {
     "name": "stderr",
     "output_type": "stream",
     "text": [
      "/home/giangtran/miniconda3/envs/streamlit_py311/lib/python3.11/site-packages/tqdm/auto.py:21: TqdmWarning: IProgress not found. Please update jupyter and ipywidgets. See https://ipywidgets.readthedocs.io/en/stable/user_install.html\n",
      "  from .autonotebook import tqdm as notebook_tqdm\n"
     ]
    }
   ],
   "source": [
    "import pandas as pd\n",
    "n_gram_phrases_song = pd.read_pickle(os.path.join(PRJ_BASE,'tmp/dictionary_from_songs_data.pkl'))\n",
    "n_gram_phrases_truyen = pd.read_pickle(os.path.join(PRJ_BASE,'tmp/dictionary_from_truyen_data.pkl'))\n",
    "n_gram_phrases = n_gram_phrases_truyen\n",
    "for key,count in n_gram_phrases_song.items():\n",
    "    if key not in n_gram_phrases:\n",
    "        n_gram_phrases[key] = count*10\n",
    "    else:\n",
    "        n_gram_phrases[key] += count*10\n",
    "        \n",
    "from transformers import AutoTokenizer\n",
    "tokenizer = AutoTokenizer.from_pretrained(\"vinai/phobert-base-v2\")\n",
    "pho_vocab = tokenizer.get_vocab()\n",
    "for key,count in pho_vocab.items():\n",
    "    real_count = 55000 // (count + 1)\n",
    "    if real_count<1:\n",
    "        continue\n",
    "    if key not in n_gram_phrases:\n",
    "        n_gram_phrases[key] = real_count\n",
    "    else:\n",
    "        n_gram_phrases[key] += real_count"
   ]
  },
  {
   "cell_type": "code",
   "execution_count": 3,
   "metadata": {},
   "outputs": [
    {
     "data": {
      "text/plain": [
       "11355412"
      ]
     },
     "execution_count": 3,
     "metadata": {},
     "output_type": "execute_result"
    }
   ],
   "source": [
    "len(n_gram_phrases)"
   ]
  },
  {
   "cell_type": "code",
   "execution_count": 4,
   "metadata": {},
   "outputs": [],
   "source": [
    "wrong_data = []\n",
    "van_indexing = {} \n",
    "for idx,(word, count) in enumerate(n_gram_phrases.items()):\n",
    "    cleaned_text = vn_grammar_handler.bo_dau_va_chuyen_van(word)\n",
    "    matches_01 = vn_grammar_handler.lay_van_cua_tu_hoac_doan(cleaned_text)\n",
    "    matches_02 = vn_grammar_handler.clean_phu_am(cleaned_text)\n",
    "    if matches_01!=matches_02:\n",
    "        wrong_data.append(['something wrong', word, matches_01, matches_02])\n",
    "    if matches_01 not in van_indexing:\n",
    "        van_indexing[matches_01] = []\n",
    "    van_indexing[matches_01].append((word,count))\n",
    "for van in van_indexing:\n",
    "    van_indexing[van].sort(key=lambda x:x[1],reverse=True)\n",
    "del van_indexing[\"\"]\n"
   ]
  },
  {
   "cell_type": "code",
   "execution_count": 5,
   "metadata": {},
   "outputs": [
    {
     "data": {
      "text/plain": [
       "<sqlite3.Cursor at 0x7fb370bd1740>"
      ]
     },
     "execution_count": 5,
     "metadata": {},
     "output_type": "execute_result"
    }
   ],
   "source": [
    "import sqlite3\n",
    "\n",
    "# Connect to the SQLite database\n",
    "conn = sqlite3.connect(os.path.join(PRJ_BASE,'app_metadata/example.db'))\n",
    "\n",
    "# Create a cursor object to execute SQL queries\n",
    "cursor = conn.cursor()\n",
    "\n",
    "# Create a table if it doesn't exist\n",
    "cursor.execute('''CREATE TABLE IF NOT EXISTS van_indexing\n",
    "                  (id TEXT PRIMARY KEY, words TEXT)''')"
   ]
  },
  {
   "cell_type": "code",
   "execution_count": 6,
   "metadata": {},
   "outputs": [
    {
     "name": "stderr",
     "output_type": "stream",
     "text": [
      "2023-11-11 11:53:31 INFO       - processed 0 van\n",
      "2023-11-11 11:53:32 INFO       - processed 10000 van\n",
      "2023-11-11 11:53:32 INFO       - processed 20000 van\n",
      "2023-11-11 11:53:32 INFO       - processed 30000 van\n",
      "2023-11-11 11:53:32 INFO       - processed 40000 van\n",
      "2023-11-11 11:53:33 INFO       - processed 50000 van\n",
      "2023-11-11 11:53:33 INFO       - processed 60000 van\n",
      "2023-11-11 11:53:33 INFO       - processed 70000 van\n",
      "2023-11-11 11:53:33 INFO       - processed 80000 van\n",
      "2023-11-11 11:53:34 INFO       - processed 90000 van\n",
      "2023-11-11 11:53:34 INFO       - processed 100000 van\n",
      "2023-11-11 11:53:35 INFO       - processed 110000 van\n",
      "2023-11-11 11:53:36 INFO       - processed 120000 van\n",
      "2023-11-11 11:53:36 INFO       - processed 130000 van\n",
      "2023-11-11 11:53:37 INFO       - processed 140000 van\n",
      "2023-11-11 11:53:38 INFO       - processed 150000 van\n",
      "2023-11-11 11:53:39 INFO       - processed 160000 van\n",
      "2023-11-11 11:53:40 INFO       - processed 170000 van\n",
      "2023-11-11 11:53:41 INFO       - processed 180000 van\n",
      "2023-11-11 11:53:42 INFO       - processed 190000 van\n",
      "2023-11-11 11:53:43 INFO       - processed 200000 van\n",
      "2023-11-11 11:53:44 INFO       - processed 210000 van\n",
      "2023-11-11 11:53:45 INFO       - processed 220000 van\n",
      "2023-11-11 11:53:47 INFO       - processed 230000 van\n",
      "2023-11-11 11:53:48 INFO       - processed 240000 van\n",
      "2023-11-11 11:53:49 INFO       - processed 250000 van\n",
      "2023-11-11 11:53:50 INFO       - processed 260000 van\n",
      "2023-11-11 11:53:51 INFO       - processed 270000 van\n",
      "2023-11-11 11:53:53 INFO       - processed 280000 van\n",
      "2023-11-11 11:53:54 INFO       - processed 290000 van\n",
      "2023-11-11 11:53:55 INFO       - processed 300000 van\n",
      "2023-11-11 11:53:56 INFO       - processed 310000 van\n",
      "2023-11-11 11:53:58 INFO       - processed 320000 van\n",
      "2023-11-11 11:53:59 INFO       - processed 330000 van\n",
      "2023-11-11 11:54:00 INFO       - processed 340000 van\n",
      "2023-11-11 11:54:02 INFO       - processed 350000 van\n",
      "2023-11-11 11:54:03 INFO       - processed 360000 van\n",
      "2023-11-11 11:54:05 INFO       - processed 370000 van\n",
      "2023-11-11 11:54:06 INFO       - processed 380000 van\n",
      "2023-11-11 11:54:07 INFO       - processed 390000 van\n",
      "2023-11-11 11:54:09 INFO       - processed 400000 van\n",
      "2023-11-11 11:54:10 INFO       - processed 410000 van\n",
      "2023-11-11 11:54:12 INFO       - processed 420000 van\n",
      "2023-11-11 11:54:13 INFO       - processed 430000 van\n",
      "2023-11-11 11:54:15 INFO       - processed 440000 van\n",
      "2023-11-11 11:54:17 INFO       - processed 450000 van\n",
      "2023-11-11 11:54:19 INFO       - processed 460000 van\n",
      "2023-11-11 11:54:20 INFO       - processed 470000 van\n",
      "2023-11-11 11:54:22 INFO       - processed 480000 van\n",
      "2023-11-11 11:54:23 INFO       - processed 490000 van\n",
      "2023-11-11 11:54:25 INFO       - processed 500000 van\n",
      "2023-11-11 11:54:26 INFO       - processed 510000 van\n",
      "2023-11-11 11:54:28 INFO       - processed 520000 van\n",
      "2023-11-11 11:54:29 INFO       - processed 530000 van\n",
      "2023-11-11 11:54:31 INFO       - processed 540000 van\n",
      "2023-11-11 11:54:32 INFO       - processed 550000 van\n",
      "2023-11-11 11:54:34 INFO       - processed 560000 van\n",
      "2023-11-11 11:54:35 INFO       - processed 570000 van\n",
      "2023-11-11 11:54:37 INFO       - processed 580000 van\n",
      "2023-11-11 11:54:38 INFO       - processed 590000 van\n",
      "2023-11-11 11:54:40 INFO       - processed 600000 van\n",
      "2023-11-11 11:54:41 INFO       - processed 610000 van\n",
      "2023-11-11 11:54:43 INFO       - processed 620000 van\n",
      "2023-11-11 11:54:44 INFO       - processed 630000 van\n",
      "2023-11-11 11:54:46 INFO       - processed 640000 van\n",
      "2023-11-11 11:54:48 INFO       - processed 650000 van\n",
      "2023-11-11 11:54:49 INFO       - processed 660000 van\n",
      "2023-11-11 11:54:51 INFO       - processed 670000 van\n",
      "2023-11-11 11:54:52 INFO       - processed 680000 van\n",
      "2023-11-11 11:54:54 INFO       - processed 690000 van\n",
      "2023-11-11 11:54:55 INFO       - processed 700000 van\n",
      "2023-11-11 11:54:57 INFO       - processed 710000 van\n",
      "2023-11-11 11:54:58 INFO       - processed 720000 van\n",
      "2023-11-11 11:55:00 INFO       - processed 730000 van\n",
      "2023-11-11 11:55:02 INFO       - processed 740000 van\n",
      "2023-11-11 11:55:03 INFO       - processed 750000 van\n",
      "2023-11-11 11:55:05 INFO       - processed 760000 van\n",
      "2023-11-11 11:55:07 INFO       - processed 770000 van\n",
      "2023-11-11 11:55:08 INFO       - processed 780000 van\n",
      "2023-11-11 11:55:09 INFO       - processed 790000 van\n",
      "2023-11-11 11:55:11 INFO       - processed 800000 van\n",
      "2023-11-11 11:55:12 INFO       - processed 810000 van\n",
      "2023-11-11 11:55:14 INFO       - processed 820000 van\n",
      "2023-11-11 11:55:15 INFO       - processed 830000 van\n",
      "2023-11-11 11:55:17 INFO       - processed 840000 van\n",
      "2023-11-11 11:55:19 INFO       - processed 850000 van\n",
      "2023-11-11 11:55:20 INFO       - processed 860000 van\n",
      "2023-11-11 11:55:22 INFO       - processed 870000 van\n",
      "2023-11-11 11:55:23 INFO       - processed 880000 van\n",
      "2023-11-11 11:55:25 INFO       - processed 890000 van\n",
      "2023-11-11 11:55:26 INFO       - processed 900000 van\n",
      "2023-11-11 11:55:28 INFO       - processed 910000 van\n",
      "2023-11-11 11:55:30 INFO       - processed 920000 van\n",
      "2023-11-11 11:55:31 INFO       - processed 930000 van\n",
      "2023-11-11 11:55:33 INFO       - processed 940000 van\n",
      "2023-11-11 11:55:34 INFO       - processed 950000 van\n",
      "2023-11-11 11:55:36 INFO       - processed 960000 van\n",
      "2023-11-11 11:55:37 INFO       - processed 970000 van\n",
      "2023-11-11 11:55:39 INFO       - processed 980000 van\n",
      "2023-11-11 11:55:40 INFO       - processed 990000 van\n",
      "2023-11-11 11:55:42 INFO       - processed 1000000 van\n",
      "2023-11-11 11:55:43 INFO       - processed 1010000 van\n",
      "2023-11-11 11:55:45 INFO       - processed 1020000 van\n",
      "2023-11-11 11:55:47 INFO       - processed 1030000 van\n",
      "2023-11-11 11:55:48 INFO       - processed 1040000 van\n",
      "2023-11-11 11:55:50 INFO       - processed 1050000 van\n",
      "2023-11-11 11:55:51 INFO       - processed 1060000 van\n",
      "2023-11-11 11:55:53 INFO       - processed 1070000 van\n",
      "2023-11-11 11:55:55 INFO       - processed 1080000 van\n",
      "2023-11-11 11:55:56 INFO       - processed 1090000 van\n",
      "2023-11-11 11:55:58 INFO       - processed 1100000 van\n",
      "2023-11-11 11:55:59 INFO       - processed 1110000 van\n",
      "2023-11-11 11:56:01 INFO       - processed 1120000 van\n",
      "2023-11-11 11:56:02 INFO       - processed 1130000 van\n",
      "2023-11-11 11:56:04 INFO       - processed 1140000 van\n",
      "2023-11-11 11:56:05 INFO       - processed 1150000 van\n",
      "2023-11-11 11:56:07 INFO       - processed 1160000 van\n",
      "2023-11-11 11:56:09 INFO       - processed 1170000 van\n",
      "2023-11-11 11:56:10 INFO       - processed 1180000 van\n",
      "2023-11-11 11:56:12 INFO       - processed 1190000 van\n",
      "2023-11-11 11:56:14 INFO       - processed 1200000 van\n",
      "2023-11-11 11:56:16 INFO       - processed 1210000 van\n",
      "2023-11-11 11:56:17 INFO       - processed 1220000 van\n",
      "2023-11-11 11:56:19 INFO       - processed 1230000 van\n",
      "2023-11-11 11:56:21 INFO       - processed 1240000 van\n",
      "2023-11-11 11:56:23 INFO       - processed 1250000 van\n",
      "2023-11-11 11:56:25 INFO       - processed 1260000 van\n",
      "2023-11-11 11:56:26 INFO       - processed 1270000 van\n",
      "2023-11-11 11:56:28 INFO       - processed 1280000 van\n",
      "2023-11-11 11:56:30 INFO       - processed 1290000 van\n",
      "2023-11-11 11:56:32 INFO       - processed 1300000 van\n",
      "2023-11-11 11:56:33 INFO       - processed 1310000 van\n",
      "2023-11-11 11:56:35 INFO       - processed 1320000 van\n",
      "2023-11-11 11:56:37 INFO       - processed 1330000 van\n",
      "2023-11-11 11:56:39 INFO       - processed 1340000 van\n",
      "2023-11-11 11:56:41 INFO       - processed 1350000 van\n",
      "2023-11-11 11:56:42 INFO       - processed 1360000 van\n",
      "2023-11-11 11:56:44 INFO       - processed 1370000 van\n",
      "2023-11-11 11:56:46 INFO       - processed 1380000 van\n",
      "2023-11-11 11:56:48 INFO       - processed 1390000 van\n",
      "2023-11-11 11:56:50 INFO       - processed 1400000 van\n",
      "2023-11-11 11:56:52 INFO       - processed 1410000 van\n",
      "2023-11-11 11:56:53 INFO       - processed 1420000 van\n",
      "2023-11-11 11:56:55 INFO       - processed 1430000 van\n",
      "2023-11-11 11:56:57 INFO       - processed 1440000 van\n",
      "2023-11-11 11:56:59 INFO       - processed 1450000 van\n",
      "2023-11-11 11:57:01 INFO       - processed 1460000 van\n",
      "2023-11-11 11:57:03 INFO       - processed 1470000 van\n",
      "2023-11-11 11:57:05 INFO       - processed 1480000 van\n",
      "2023-11-11 11:57:07 INFO       - processed 1490000 van\n",
      "2023-11-11 11:57:08 INFO       - processed 1500000 van\n",
      "2023-11-11 11:57:10 INFO       - processed 1510000 van\n",
      "2023-11-11 11:57:12 INFO       - processed 1520000 van\n",
      "2023-11-11 11:57:14 INFO       - processed 1530000 van\n",
      "2023-11-11 11:57:16 INFO       - processed 1540000 van\n",
      "2023-11-11 11:57:18 INFO       - processed 1550000 van\n",
      "2023-11-11 11:57:19 INFO       - processed 1560000 van\n",
      "2023-11-11 11:57:21 INFO       - processed 1570000 van\n",
      "2023-11-11 11:57:23 INFO       - processed 1580000 van\n",
      "2023-11-11 11:57:25 INFO       - processed 1590000 van\n",
      "2023-11-11 11:57:27 INFO       - processed 1600000 van\n",
      "2023-11-11 11:57:28 INFO       - processed 1610000 van\n",
      "2023-11-11 11:57:30 INFO       - processed 1620000 van\n",
      "2023-11-11 11:57:32 INFO       - processed 1630000 van\n",
      "2023-11-11 11:57:33 INFO       - processed 1640000 van\n",
      "2023-11-11 11:57:35 INFO       - processed 1650000 van\n",
      "2023-11-11 11:57:37 INFO       - processed 1660000 van\n",
      "2023-11-11 11:57:39 INFO       - processed 1670000 van\n",
      "2023-11-11 11:57:41 INFO       - processed 1680000 van\n",
      "2023-11-11 11:57:43 INFO       - processed 1690000 van\n",
      "2023-11-11 11:57:44 INFO       - processed 1700000 van\n",
      "2023-11-11 11:57:46 INFO       - processed 1710000 van\n",
      "2023-11-11 11:57:48 INFO       - processed 1720000 van\n",
      "2023-11-11 11:57:50 INFO       - processed 1730000 van\n",
      "2023-11-11 11:57:51 INFO       - processed 1740000 van\n",
      "2023-11-11 11:57:53 INFO       - processed 1750000 van\n",
      "2023-11-11 11:57:55 INFO       - processed 1760000 van\n",
      "2023-11-11 11:57:57 INFO       - processed 1770000 van\n",
      "2023-11-11 11:57:59 INFO       - processed 1780000 van\n",
      "2023-11-11 11:58:00 INFO       - processed 1790000 van\n",
      "2023-11-11 11:58:02 INFO       - processed 1800000 van\n",
      "2023-11-11 11:58:04 INFO       - processed 1810000 van\n",
      "2023-11-11 11:58:06 INFO       - processed 1820000 van\n",
      "2023-11-11 11:58:08 INFO       - processed 1830000 van\n",
      "2023-11-11 11:58:10 INFO       - processed 1840000 van\n",
      "2023-11-11 11:58:12 INFO       - processed 1850000 van\n",
      "2023-11-11 11:58:14 INFO       - processed 1860000 van\n",
      "2023-11-11 11:58:16 INFO       - processed 1870000 van\n",
      "2023-11-11 11:58:18 INFO       - processed 1880000 van\n",
      "2023-11-11 11:58:19 INFO       - processed 1890000 van\n",
      "2023-11-11 11:58:21 INFO       - processed 1900000 van\n",
      "2023-11-11 11:58:23 INFO       - processed 1910000 van\n",
      "2023-11-11 11:58:25 INFO       - processed 1920000 van\n",
      "2023-11-11 11:58:27 INFO       - processed 1930000 van\n",
      "2023-11-11 11:58:29 INFO       - processed 1940000 van\n",
      "2023-11-11 11:58:31 INFO       - processed 1950000 van\n",
      "2023-11-11 11:58:33 INFO       - processed 1960000 van\n",
      "2023-11-11 11:58:35 INFO       - processed 1970000 van\n",
      "2023-11-11 11:58:37 INFO       - processed 1980000 van\n",
      "2023-11-11 11:58:39 INFO       - processed 1990000 van\n",
      "2023-11-11 11:58:41 INFO       - processed 2000000 van\n",
      "2023-11-11 11:58:43 INFO       - processed 2010000 van\n",
      "2023-11-11 11:58:45 INFO       - processed 2020000 van\n",
      "2023-11-11 11:58:46 INFO       - processed 2030000 van\n",
      "2023-11-11 11:58:48 INFO       - processed 2040000 van\n",
      "2023-11-11 11:58:50 INFO       - processed 2050000 van\n",
      "2023-11-11 11:58:52 INFO       - processed 2060000 van\n",
      "2023-11-11 11:58:54 INFO       - processed 2070000 van\n",
      "2023-11-11 11:58:56 INFO       - processed 2080000 van\n",
      "2023-11-11 11:58:58 INFO       - processed 2090000 van\n",
      "2023-11-11 11:59:00 INFO       - processed 2100000 van\n",
      "2023-11-11 11:59:02 INFO       - processed 2110000 van\n",
      "2023-11-11 11:59:04 INFO       - processed 2120000 van\n",
      "2023-11-11 11:59:06 INFO       - processed 2130000 van\n",
      "2023-11-11 11:59:08 INFO       - processed 2140000 van\n",
      "2023-11-11 11:59:10 INFO       - processed 2150000 van\n",
      "2023-11-11 11:59:12 INFO       - processed 2160000 van\n",
      "2023-11-11 11:59:14 INFO       - processed 2170000 van\n",
      "2023-11-11 11:59:16 INFO       - processed 2180000 van\n",
      "2023-11-11 11:59:18 INFO       - processed 2190000 van\n",
      "2023-11-11 11:59:20 INFO       - processed 2200000 van\n",
      "2023-11-11 11:59:22 INFO       - processed 2210000 van\n",
      "2023-11-11 11:59:24 INFO       - processed 2220000 van\n",
      "2023-11-11 11:59:27 INFO       - processed 2230000 van\n",
      "2023-11-11 11:59:29 INFO       - processed 2240000 van\n",
      "2023-11-11 11:59:31 INFO       - processed 2250000 van\n",
      "2023-11-11 11:59:33 INFO       - processed 2260000 van\n",
      "2023-11-11 11:59:35 INFO       - processed 2270000 van\n",
      "2023-11-11 11:59:37 INFO       - processed 2280000 van\n",
      "2023-11-11 11:59:39 INFO       - processed 2290000 van\n",
      "2023-11-11 11:59:41 INFO       - processed 2300000 van\n",
      "2023-11-11 11:59:43 INFO       - processed 2310000 van\n",
      "2023-11-11 11:59:45 INFO       - processed 2320000 van\n",
      "2023-11-11 11:59:47 INFO       - processed 2330000 van\n",
      "2023-11-11 11:59:50 INFO       - processed 2340000 van\n",
      "2023-11-11 11:59:52 INFO       - processed 2350000 van\n",
      "2023-11-11 11:59:54 INFO       - processed 2360000 van\n",
      "2023-11-11 11:59:56 INFO       - processed 2370000 van\n",
      "2023-11-11 11:59:58 INFO       - processed 2380000 van\n",
      "2023-11-11 12:00:00 INFO       - processed 2390000 van\n",
      "2023-11-11 12:00:02 INFO       - processed 2400000 van\n",
      "2023-11-11 12:00:04 INFO       - processed 2410000 van\n",
      "2023-11-11 12:00:06 INFO       - processed 2420000 van\n",
      "2023-11-11 12:00:09 INFO       - processed 2430000 van\n",
      "2023-11-11 12:00:11 INFO       - processed 2440000 van\n",
      "2023-11-11 12:00:13 INFO       - processed 2450000 van\n",
      "2023-11-11 12:00:15 INFO       - processed 2460000 van\n",
      "2023-11-11 12:00:17 INFO       - processed 2470000 van\n",
      "2023-11-11 12:00:19 INFO       - processed 2480000 van\n",
      "2023-11-11 12:00:21 INFO       - processed 2490000 van\n",
      "2023-11-11 12:00:23 INFO       - processed 2500000 van\n",
      "2023-11-11 12:00:26 INFO       - processed 2510000 van\n",
      "2023-11-11 12:00:28 INFO       - processed 2520000 van\n",
      "2023-11-11 12:00:30 INFO       - processed 2530000 van\n",
      "2023-11-11 12:00:32 INFO       - processed 2540000 van\n",
      "2023-11-11 12:00:34 INFO       - processed 2550000 van\n",
      "2023-11-11 12:00:37 INFO       - processed 2560000 van\n",
      "2023-11-11 12:00:39 INFO       - processed 2570000 van\n",
      "2023-11-11 12:00:41 INFO       - processed 2580000 van\n",
      "2023-11-11 12:00:43 INFO       - processed 2590000 van\n",
      "2023-11-11 12:00:45 INFO       - processed 2600000 van\n",
      "2023-11-11 12:00:48 INFO       - processed 2610000 van\n",
      "2023-11-11 12:00:50 INFO       - processed 2620000 van\n",
      "2023-11-11 12:00:52 INFO       - processed 2630000 van\n",
      "2023-11-11 12:00:54 INFO       - processed 2640000 van\n",
      "2023-11-11 12:00:56 INFO       - processed 2650000 van\n",
      "2023-11-11 12:00:58 INFO       - processed 2660000 van\n",
      "2023-11-11 12:01:00 INFO       - processed 2670000 van\n",
      "2023-11-11 12:01:02 INFO       - processed 2680000 van\n",
      "2023-11-11 12:01:04 INFO       - processed 2690000 van\n",
      "2023-11-11 12:01:06 INFO       - processed 2700000 van\n",
      "2023-11-11 12:01:08 INFO       - processed 2710000 van\n",
      "2023-11-11 12:01:10 INFO       - processed 2720000 van\n",
      "2023-11-11 12:01:12 INFO       - processed 2730000 van\n",
      "2023-11-11 12:01:14 INFO       - processed 2740000 van\n",
      "2023-11-11 12:01:16 INFO       - processed 2750000 van\n",
      "2023-11-11 12:01:18 INFO       - processed 2760000 van\n",
      "2023-11-11 12:01:20 INFO       - processed 2770000 van\n",
      "2023-11-11 12:01:22 INFO       - processed 2780000 van\n",
      "2023-11-11 12:01:24 INFO       - processed 2790000 van\n",
      "2023-11-11 12:01:26 INFO       - processed 2800000 van\n",
      "2023-11-11 12:01:29 INFO       - processed 2810000 van\n",
      "2023-11-11 12:01:31 INFO       - processed 2820000 van\n",
      "2023-11-11 12:01:33 INFO       - processed 2830000 van\n",
      "2023-11-11 12:01:35 INFO       - processed 2840000 van\n",
      "2023-11-11 12:01:37 INFO       - processed 2850000 van\n",
      "2023-11-11 12:01:39 INFO       - processed 2860000 van\n",
      "2023-11-11 12:01:41 INFO       - processed 2870000 van\n",
      "2023-11-11 12:01:43 INFO       - processed 2880000 van\n",
      "2023-11-11 12:01:46 INFO       - processed 2890000 van\n",
      "2023-11-11 12:01:48 INFO       - processed 2900000 van\n",
      "2023-11-11 12:01:50 INFO       - processed 2910000 van\n",
      "2023-11-11 12:01:52 INFO       - processed 2920000 van\n",
      "2023-11-11 12:01:54 INFO       - processed 2930000 van\n",
      "2023-11-11 12:01:56 INFO       - processed 2940000 van\n",
      "2023-11-11 12:01:59 INFO       - processed 2950000 van\n",
      "2023-11-11 12:02:01 INFO       - processed 2960000 van\n",
      "2023-11-11 12:02:03 INFO       - processed 2970000 van\n",
      "2023-11-11 12:02:05 INFO       - processed 2980000 van\n",
      "2023-11-11 12:02:07 INFO       - processed 2990000 van\n",
      "2023-11-11 12:02:09 INFO       - processed 3000000 van\n",
      "2023-11-11 12:02:11 INFO       - processed 3010000 van\n",
      "2023-11-11 12:02:14 INFO       - processed 3020000 van\n",
      "2023-11-11 12:02:16 INFO       - processed 3030000 van\n",
      "2023-11-11 12:02:18 INFO       - processed 3040000 van\n",
      "2023-11-11 12:02:21 INFO       - processed 3050000 van\n",
      "2023-11-11 12:02:23 INFO       - processed 3060000 van\n",
      "2023-11-11 12:02:25 INFO       - processed 3070000 van\n",
      "2023-11-11 12:02:27 INFO       - processed 3080000 van\n",
      "2023-11-11 12:02:30 INFO       - processed 3090000 van\n",
      "2023-11-11 12:02:32 INFO       - processed 3100000 van\n",
      "2023-11-11 12:02:34 INFO       - processed 3110000 van\n",
      "2023-11-11 12:02:36 INFO       - processed 3120000 van\n",
      "2023-11-11 12:02:39 INFO       - processed 3130000 van\n",
      "2023-11-11 12:02:41 INFO       - processed 3140000 van\n",
      "2023-11-11 12:02:43 INFO       - processed 3150000 van\n",
      "2023-11-11 12:02:46 INFO       - processed 3160000 van\n",
      "2023-11-11 12:02:48 INFO       - processed 3170000 van\n",
      "2023-11-11 12:02:51 INFO       - processed 3180000 van\n",
      "2023-11-11 12:02:53 INFO       - processed 3190000 van\n",
      "2023-11-11 12:02:55 INFO       - processed 3200000 van\n",
      "2023-11-11 12:02:57 INFO       - processed 3210000 van\n",
      "2023-11-11 12:02:59 INFO       - processed 3220000 van\n",
      "2023-11-11 12:03:02 INFO       - processed 3230000 van\n",
      "2023-11-11 12:03:04 INFO       - processed 3240000 van\n",
      "2023-11-11 12:03:06 INFO       - processed 3250000 van\n",
      "2023-11-11 12:03:09 INFO       - processed 3260000 van\n",
      "2023-11-11 12:03:11 INFO       - processed 3270000 van\n",
      "2023-11-11 12:03:13 INFO       - processed 3280000 van\n",
      "2023-11-11 12:03:16 INFO       - processed 3290000 van\n",
      "2023-11-11 12:03:18 INFO       - processed 3300000 van\n",
      "2023-11-11 12:03:20 INFO       - processed 3310000 van\n",
      "2023-11-11 12:03:22 INFO       - processed 3320000 van\n",
      "2023-11-11 12:03:25 INFO       - processed 3330000 van\n",
      "2023-11-11 12:03:27 INFO       - processed 3340000 van\n",
      "2023-11-11 12:03:29 INFO       - processed 3350000 van\n",
      "2023-11-11 12:03:31 INFO       - processed 3360000 van\n",
      "2023-11-11 12:03:34 INFO       - processed 3370000 van\n",
      "2023-11-11 12:03:36 INFO       - processed 3380000 van\n",
      "2023-11-11 12:03:38 INFO       - processed 3390000 van\n",
      "2023-11-11 12:03:41 INFO       - processed 3400000 van\n",
      "2023-11-11 12:03:43 INFO       - processed 3410000 van\n",
      "2023-11-11 12:03:46 INFO       - processed 3420000 van\n",
      "2023-11-11 12:03:48 INFO       - processed 3430000 van\n",
      "2023-11-11 12:03:50 INFO       - processed 3440000 van\n",
      "2023-11-11 12:03:52 INFO       - processed 3450000 van\n",
      "2023-11-11 12:03:55 INFO       - processed 3460000 van\n",
      "2023-11-11 12:03:57 INFO       - processed 3470000 van\n",
      "2023-11-11 12:04:00 INFO       - processed 3480000 van\n",
      "2023-11-11 12:04:02 INFO       - processed 3490000 van\n",
      "2023-11-11 12:04:05 INFO       - processed 3500000 van\n",
      "2023-11-11 12:04:07 INFO       - processed 3510000 van\n",
      "2023-11-11 12:04:09 INFO       - processed 3520000 van\n",
      "2023-11-11 12:04:12 INFO       - processed 3530000 van\n",
      "2023-11-11 12:04:14 INFO       - processed 3540000 van\n",
      "2023-11-11 12:04:17 INFO       - processed 3550000 van\n",
      "2023-11-11 12:04:19 INFO       - processed 3560000 van\n",
      "2023-11-11 12:04:22 INFO       - processed 3570000 van\n",
      "2023-11-11 12:04:24 INFO       - processed 3580000 van\n",
      "2023-11-11 12:04:27 INFO       - processed 3590000 van\n",
      "2023-11-11 12:04:29 INFO       - processed 3600000 van\n",
      "2023-11-11 12:04:31 INFO       - processed 3610000 van\n",
      "2023-11-11 12:04:33 INFO       - processed 3620000 van\n",
      "2023-11-11 12:04:36 INFO       - processed 3630000 van\n",
      "2023-11-11 12:04:38 INFO       - processed 3640000 van\n",
      "2023-11-11 12:04:41 INFO       - processed 3650000 van\n",
      "2023-11-11 12:04:43 INFO       - processed 3660000 van\n",
      "2023-11-11 12:04:46 INFO       - processed 3670000 van\n",
      "2023-11-11 12:04:48 INFO       - processed 3680000 van\n",
      "2023-11-11 12:04:51 INFO       - processed 3690000 van\n",
      "2023-11-11 12:04:53 INFO       - processed 3700000 van\n",
      "2023-11-11 12:04:56 INFO       - processed 3710000 van\n",
      "2023-11-11 12:04:58 INFO       - processed 3720000 van\n",
      "2023-11-11 12:05:01 INFO       - processed 3730000 van\n",
      "2023-11-11 12:05:03 INFO       - processed 3740000 van\n",
      "2023-11-11 12:05:05 INFO       - processed 3750000 van\n",
      "2023-11-11 12:05:07 INFO       - processed 3760000 van\n",
      "2023-11-11 12:05:10 INFO       - processed 3770000 van\n",
      "2023-11-11 12:05:12 INFO       - processed 3780000 van\n",
      "2023-11-11 12:05:14 INFO       - processed 3790000 van\n",
      "2023-11-11 12:05:17 INFO       - processed 3800000 van\n",
      "2023-11-11 12:05:19 INFO       - processed 3810000 van\n",
      "2023-11-11 12:05:22 INFO       - processed 3820000 van\n",
      "2023-11-11 12:05:24 INFO       - processed 3830000 van\n",
      "2023-11-11 12:05:27 INFO       - processed 3840000 van\n",
      "2023-11-11 12:05:29 INFO       - processed 3850000 van\n",
      "2023-11-11 12:05:32 INFO       - processed 3860000 van\n",
      "2023-11-11 12:05:34 INFO       - processed 3870000 van\n",
      "2023-11-11 12:05:37 INFO       - processed 3880000 van\n",
      "2023-11-11 12:05:39 INFO       - processed 3890000 van\n",
      "2023-11-11 12:05:42 INFO       - processed 3900000 van\n",
      "2023-11-11 12:05:44 INFO       - processed 3910000 van\n",
      "2023-11-11 12:05:47 INFO       - processed 3920000 van\n",
      "2023-11-11 12:05:49 INFO       - processed 3930000 van\n",
      "2023-11-11 12:05:52 INFO       - processed 3940000 van\n",
      "2023-11-11 12:05:54 INFO       - processed 3950000 van\n",
      "2023-11-11 12:05:57 INFO       - processed 3960000 van\n",
      "2023-11-11 12:05:59 INFO       - processed 3970000 van\n",
      "2023-11-11 12:06:02 INFO       - processed 3980000 van\n",
      "2023-11-11 12:06:04 INFO       - processed 3990000 van\n",
      "2023-11-11 12:06:06 INFO       - processed 4000000 van\n",
      "2023-11-11 12:06:09 INFO       - processed 4010000 van\n",
      "2023-11-11 12:06:11 INFO       - processed 4020000 van\n",
      "2023-11-11 12:06:14 INFO       - processed 4030000 van\n",
      "2023-11-11 12:06:16 INFO       - processed 4040000 van\n",
      "2023-11-11 12:06:19 INFO       - processed 4050000 van\n",
      "2023-11-11 12:06:21 INFO       - processed 4060000 van\n",
      "2023-11-11 12:06:23 INFO       - processed 4070000 van\n",
      "2023-11-11 12:06:26 INFO       - processed 4080000 van\n",
      "2023-11-11 12:06:28 INFO       - processed 4090000 van\n",
      "2023-11-11 12:06:31 INFO       - processed 4100000 van\n",
      "2023-11-11 12:06:33 INFO       - processed 4110000 van\n",
      "2023-11-11 12:06:35 INFO       - processed 4120000 van\n",
      "2023-11-11 12:06:38 INFO       - processed 4130000 van\n",
      "2023-11-11 12:06:40 INFO       - processed 4140000 van\n",
      "2023-11-11 12:06:42 INFO       - processed 4150000 van\n",
      "2023-11-11 12:06:44 INFO       - processed 4160000 van\n",
      "2023-11-11 12:06:46 INFO       - processed 4170000 van\n",
      "2023-11-11 12:06:48 INFO       - processed 4180000 van\n",
      "2023-11-11 12:06:51 INFO       - processed 4190000 van\n",
      "2023-11-11 12:06:53 INFO       - processed 4200000 van\n",
      "2023-11-11 12:06:55 INFO       - processed 4210000 van\n",
      "2023-11-11 12:06:57 INFO       - processed 4220000 van\n",
      "2023-11-11 12:06:59 INFO       - processed 4230000 van\n",
      "2023-11-11 12:07:01 INFO       - processed 4240000 van\n",
      "2023-11-11 12:07:04 INFO       - processed 4250000 van\n",
      "2023-11-11 12:07:06 INFO       - processed 4260000 van\n",
      "2023-11-11 12:07:08 INFO       - processed 4270000 van\n",
      "2023-11-11 12:07:11 INFO       - processed 4280000 van\n",
      "2023-11-11 12:07:13 INFO       - processed 4290000 van\n",
      "2023-11-11 12:07:16 INFO       - processed 4300000 van\n",
      "2023-11-11 12:07:18 INFO       - processed 4310000 van\n",
      "2023-11-11 12:07:20 INFO       - processed 4320000 van\n",
      "2023-11-11 12:07:23 INFO       - processed 4330000 van\n",
      "2023-11-11 12:07:25 INFO       - processed 4340000 van\n",
      "2023-11-11 12:07:27 INFO       - processed 4350000 van\n",
      "2023-11-11 12:07:30 INFO       - processed 4360000 van\n",
      "2023-11-11 12:07:32 INFO       - processed 4370000 van\n",
      "2023-11-11 12:07:35 INFO       - processed 4380000 van\n",
      "2023-11-11 12:07:37 INFO       - processed 4390000 van\n",
      "2023-11-11 12:07:40 INFO       - processed 4400000 van\n",
      "2023-11-11 12:07:42 INFO       - processed 4410000 van\n",
      "2023-11-11 12:07:45 INFO       - processed 4420000 van\n",
      "2023-11-11 12:07:47 INFO       - processed 4430000 van\n",
      "2023-11-11 12:07:50 INFO       - processed 4440000 van\n",
      "2023-11-11 12:07:52 INFO       - processed 4450000 van\n",
      "2023-11-11 12:07:55 INFO       - processed 4460000 van\n",
      "2023-11-11 12:07:57 INFO       - processed 4470000 van\n",
      "2023-11-11 12:07:59 INFO       - processed 4480000 van\n",
      "2023-11-11 12:08:02 INFO       - processed 4490000 van\n",
      "2023-11-11 12:08:04 INFO       - processed 4500000 van\n",
      "2023-11-11 12:08:06 INFO       - processed 4510000 van\n",
      "2023-11-11 12:08:09 INFO       - processed 4520000 van\n",
      "2023-11-11 12:08:11 INFO       - processed 4530000 van\n",
      "2023-11-11 12:08:13 INFO       - processed 4540000 van\n",
      "2023-11-11 12:08:16 INFO       - processed 4550000 van\n",
      "2023-11-11 12:08:18 INFO       - processed 4560000 van\n",
      "2023-11-11 12:08:21 INFO       - processed 4570000 van\n",
      "2023-11-11 12:08:23 INFO       - processed 4580000 van\n",
      "2023-11-11 12:08:25 INFO       - processed 4590000 van\n",
      "2023-11-11 12:08:27 INFO       - processed 4600000 van\n",
      "2023-11-11 12:08:30 INFO       - processed 4610000 van\n",
      "2023-11-11 12:08:32 INFO       - processed 4620000 van\n",
      "2023-11-11 12:08:35 INFO       - processed 4630000 van\n",
      "2023-11-11 12:08:37 INFO       - processed 4640000 van\n",
      "2023-11-11 12:08:39 INFO       - processed 4650000 van\n",
      "2023-11-11 12:08:42 INFO       - processed 4660000 van\n",
      "2023-11-11 12:08:44 INFO       - processed 4670000 van\n",
      "2023-11-11 12:08:47 INFO       - processed 4680000 van\n"
     ]
    }
   ],
   "source": [
    "for idx,(van, text) in enumerate(van_indexing.items()):\n",
    "    text_list = \"\\n\".join(x[0] for x in text)\n",
    "   # Add data to the table\n",
    "    data = ('1', 'Hello, world!')\n",
    "    cursor.execute('INSERT INTO van_indexing (id, words) VALUES (?, ?)', (van,text_list))\n",
    "    if idx % 10000 == 0:\n",
    "        logging.info(f'  - processed {idx} van')"
   ]
  },
  {
   "cell_type": "code",
   "execution_count": 7,
   "metadata": {},
   "outputs": [],
   "source": [
    "conn.commit()\n",
    "\n",
    "# Close the connection\n",
    "conn.close()"
   ]
  },
  {
   "cell_type": "code",
   "execution_count": 16,
   "metadata": {},
   "outputs": [
    {
     "data": {
      "text/plain": [
       "CompletedProcess(args=['scp', '-i', '/home/giangtran/.ssh/giang_key.pem', '/mnt/d/personal_working/bavandangvanba/app_metadata/example.db', 'giangtran@ec2-52-74-160-204.ap-southeast-1.compute.amazonaws.com:/home/giangtran/working/bavandangvanba/app_metadata/example.db'], returncode=0)"
      ]
     },
     "execution_count": 16,
     "metadata": {},
     "output_type": "execute_result"
    }
   ],
   "source": [
    "import subprocess\n",
    "\n",
    "source_file_path = \"/mnt/d/personal_working/bavandangvanba/app_metadata/example.db\"\n",
    "destination_file_path = \"giangtran@ec2-52-74-160-204.ap-southeast-1.compute.amazonaws.com:/home/giangtran/working/bavandangvanba/app_metadata/example.db\"\n",
    "key_file_path = \"/home/giangtran/.ssh/giang_key.pem\"\n",
    "\n",
    "subprocess.run([\"scp\", \"-i\", key_file_path, source_file_path, destination_file_path])"
   ]
  },
  {
   "cell_type": "markdown",
   "metadata": {},
   "source": [
    "# test old db"
   ]
  },
  {
   "cell_type": "code",
   "execution_count": 1,
   "metadata": {},
   "outputs": [
    {
     "name": "stdout",
     "output_type": "stream",
     "text": [
      "/mnt/d/personal_working/bavandangvanba/\n"
     ]
    }
   ],
   "source": [
    "import os\n",
    "import sys\n",
    "import logging\n",
    "PRJ_BASE ='/mnt/d/personal_working/bavandangvanba'\n",
    "base_path = PRJ_BASE\n",
    "sys.path.append(base_path)\n",
    "from core.utils import (\n",
    "    vn_grammar_handler,\n",
    "    db_handler,\n",
    "    init_logger)\n",
    "init_logger()"
   ]
  },
  {
   "cell_type": "code",
   "execution_count": 10,
   "metadata": {},
   "outputs": [],
   "source": [
    "import sqlite3\n",
    "# conn = sqlite3.connect(os.path.join(PRJ_BASE,'app_metadata/example_bk_12M.db'))\n",
    "conn = sqlite3.connect(os.path.join(PRJ_BASE,'app_metadata/example.db'))\n",
    "cursor = conn.cursor()\n"
   ]
  },
  {
   "cell_type": "code",
   "execution_count": 11,
   "metadata": {},
   "outputs": [
    {
     "data": {
      "text/plain": [
       "[('dáng vẻ\\nnàng sẽ\\ndáng mẹ\\nđang nghe\\nhàng tre\\nđáng lẽ\\nnàng nghe\\ncàng sẽ\\nđang hé\\nhàng me\\nvàng nhẹ\\ncàng nghe\\nnàng khẽ\\nsáng sẽ\\nđang khẽ\\nnàng ghé\\nnàng nhẹ\\nđang vẽ\\nsáng nghe\\nnàng thẻ\\ntháng mẹ\\nđang nhẹ\\nchàng sẽ\\nmạng che\\nnàng che\\nmang vẻ\\ntháng sẽ\\nnàng đè\\nsang hè\\nchang the\\nđang xé\\nmang mẹ\\nsang ghé\\nsang mẹ\\nđang se\\nsang sẽ\\nnàng vẽ\\nvàng khẽ\\nnàng vẻ\\nsáng che\\ntang de\\nngang sẽ\\nlàng xe\\ntháng đẻ\\nnàng hé\\ncàng che\\nnàng xé\\nđang ghé\\ncàng trẻ\\nvang khẽ\\nđáng nghe\\nvang nhẹ\\nvàng ghé\\nsang ve\\nđang bé\\nnàng mẹ\\nnàng xe\\nhàng sẽ\\nmang xe\\nnàng té\\ncàng xe\\nvàng vẻ\\nmang nhẹ\\ndáng vẽ\\nngang che\\nlàng e\\nsang kẻ\\nvàng se\\nQuang Le\\nsang nè\\nđang ngh e\\nhàng e\\ncàng bé\\nđang phe\\nđang đè\\nsáng nhẹ\\nlạng lẽ\\ncàng bẻ\\ngang de\\nsáng vẽ\\nmang khẽ\\nđáng nhẽ\\nhạng vé\\nvàng xe\\nvàng nghe\\nsáng mẹ\\nmang me\\ncàng ghẹ\\nnàng nè\\ndang the\\nmang thẻ\\nquang sẽ\\nnàng đẻ\\ncàng nhẹ\\ntràng sẽ\\nnàng bẻ\\nquang nhẹ\\nquang né\\nnàng nhe\\nmang sẽ\\nquang che\\nhàng nghe\\ngiang nghe\\nnàng khe\\nhạng nhẹ\\nmang xé\\nmang che\\nquang khẽ\\nnàng trẻ\\nbảng xe\\ncàng vẽ\\nmang rẽ\\nquang xé\\nhàng xe\\ntrang sẽ\\nthang té\\nnàng kẻ\\nquáng sẽ\\nđang nhe\\nmạng sẽ\\nđang vẻ\\nngang khe\\ndạng sẽ\\nhàng xé\\nhàng nhẹ\\nđang té\\nnàng chẻ\\ncàng mẹ\\ncàng lẽ\\nnàng le\\ntrang nghe\\nsáng đè\\ndạng nghe\\nvàng khè\\nmạng nghe\\nvàng sẽ\\ntang vẻ\\nvang thẻ\\nvàng khe\\nnàng bé\\nquang vẻ\\ntrang vẻ\\nvàng che\\ncàng đè\\ndạng che\\nngang đè\\ndạng vẽ\\ndáng nhẹ\\ngiang xe\\nsáng lẻ\\nmang ghé\\nbảng vẽ\\nhàng khẽ\\nhàng đè\\nmang kẻ\\ntrang xe\\nlang đè\\nđãng bè\\ntháng nghe\\nnàng thè\\ntràng xé\\nmạng đè\\nbang thẻ\\nvàng thẻ\\nthang đè\\nđang thẻ\\nnàng lẽ\\nthang nghe\\ntháng khẽ\\nđáng sẽ\\ntràng vẻ\\ntảng nghe\\ndáng sẽ\\nnàng e\\nđáng vẻ\\nquang ghé\\nnàng vé\\ntrang xé\\ntrang mẹ\\nnàng né\\nđang tè\\nmạng e\\ndáng ghé\\ntáng rẽ\\nngang bẻ\\nquang nghe\\nsáng khe\\ngiang nhẹ\\ndạng nhẹ\\nmang nghe\\ntrang kẻ\\nđảng ghé\\nthang nhẹ\\nhạng sẽ\\ndạng khe\\ntrang che\\ndáng vẻ m\\nbảng sẽ\\nmãng xé\\nquang đè\\ncàng vẻ\\nmang né\\ntràng nghe\\nngang kẻ\\nlang xé',)]"
      ]
     },
     "execution_count": 11,
     "metadata": {},
     "output_type": "execute_result"
    }
   ],
   "source": [
    "van = \"ang e\"\n",
    "cursor.execute(f\"SELECT words FROM van_indexing WHERE id = '{van}'\")\n",
    "rows = cursor.fetchall()\n",
    "rows"
   ]
  },
  {
   "cell_type": "code",
   "execution_count": 12,
   "metadata": {},
   "outputs": [
    {
     "data": {
      "text/plain": [
       "'lang quê'"
      ]
     },
     "execution_count": 12,
     "metadata": {},
     "output_type": "execute_result"
    }
   ],
   "source": [
    "vn_grammar_handler.bo_dau_va_chuyen_van(\"làng quê\")"
   ]
  },
  {
   "cell_type": "code",
   "execution_count": 13,
   "metadata": {},
   "outputs": [
    {
     "data": {
      "text/plain": [
       "'ang ê'"
      ]
     },
     "execution_count": 13,
     "metadata": {},
     "output_type": "execute_result"
    }
   ],
   "source": [
    "vn_grammar_handler.clean_phu_am(vn_grammar_handler.bo_dau_va_chuyen_van(\"làng quê\"))"
   ]
  },
  {
   "cell_type": "code",
   "execution_count": 14,
   "metadata": {},
   "outputs": [
    {
     "data": {
      "text/plain": [
       "'ang ê'"
      ]
     },
     "execution_count": 14,
     "metadata": {},
     "output_type": "execute_result"
    }
   ],
   "source": [
    "vn_grammar_handler.lay_van_cua_tu_hoac_doan(vn_grammar_handler.bo_dau_va_chuyen_van(\"làng quê\"))"
   ]
  },
  {
   "cell_type": "code",
   "execution_count": 15,
   "metadata": {},
   "outputs": [
    {
     "data": {
      "text/plain": [
       "re.compile(r'((^|\\s)ngh(?!\\s))|((^|\\s)ch(?!\\s))|((^|\\s)gh(?!\\s))|((^|\\s)gi(?!\\s))|((^|\\s)kh(?!\\s))|((^|\\s)ng(?!\\s))|((^|\\s)nh(?!\\s))|((^|\\s)ph(?!\\s))|((^|\\s)qu(?!\\s))|((^|\\s)th(?!\\s))|((^|\\s)tr(?!\\s))|((^|\\s)b(?!\\s))|((^|\\s)c(?!\\s))|((^|\\s)d(?!\\s))|((^|\\s)g(?!\\s))|((^|\\s)h(?!\\s))|((^|\\s)k(?!\\s))|((^|\\s)l(?!\\s))|((^|\\s)m(?!\\s))|((^|\\s)n(?!\\s))|((^|\\s)p(?!\\s))|((^|\\s)q(?!\\s))|((^|\\s)r(?!\\s))|((^|\\s)s(?!\\s))|((^|\\s)t(?!\\s))|((^|\\s)v(?!\\s))|((^|\\s)x(?!\\s))|((^|\\s)đ(?!\\s))',\n",
       "           re.UNICODE)"
      ]
     },
     "execution_count": 15,
     "metadata": {},
     "output_type": "execute_result"
    }
   ],
   "source": [
    "vn_grammar_handler.pattern_remove_phu_am"
   ]
  },
  {
   "cell_type": "code",
   "execution_count": 8,
   "metadata": {},
   "outputs": [
    {
     "name": "stdout",
     "output_type": "stream",
     "text": [
      "This is an example with ngh at the beginning ngh\tand ngh ngh\n",
      "in different situations.\n"
     ]
    }
   ],
   "source": [
    "import re\n",
    "\n",
    "pattern = r\"(?:(?<=\\s))ngh(?!\\s)\"\n",
    "text = \"This is an example nghwith ngh at the beginning ngh\\tand ngh ngh\\nin different situations.\"\n",
    "\n",
    "result = re.sub(pattern, \"\", text)\n",
    "print(result)"
   ]
  },
  {
   "cell_type": "code",
   "execution_count": null,
   "metadata": {},
   "outputs": [],
   "source": []
  }
 ],
 "metadata": {
  "kernelspec": {
   "display_name": "nlp_env",
   "language": "python",
   "name": "python3"
  },
  "language_info": {
   "codemirror_mode": {
    "name": "ipython",
    "version": 3
   },
   "file_extension": ".py",
   "mimetype": "text/x-python",
   "name": "python",
   "nbconvert_exporter": "python",
   "pygments_lexer": "ipython3",
   "version": "3.11.5"
  },
  "orig_nbformat": 4
 },
 "nbformat": 4,
 "nbformat_minor": 2
}
