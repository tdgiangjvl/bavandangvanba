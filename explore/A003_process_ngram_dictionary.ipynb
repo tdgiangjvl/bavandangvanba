{
 "cells": [
  {
   "cell_type": "code",
   "execution_count": 1,
   "metadata": {},
   "outputs": [
    {
     "name": "stdout",
     "output_type": "stream",
     "text": [
      "/mnt/d/personal_working/bavandangvanba/\n"
     ]
    }
   ],
   "source": [
    "import pandas as pd\n",
    "import subprocess\n",
    "import logging\n",
    "import re\n",
    "import json\n",
    "from typing import Dict\n",
    "import os\n",
    "import sys\n",
    "import multiprocessing\n",
    "PRJ_BASE = os.path.dirname(os.getcwd())\n",
    "sys.path.append(PRJ_BASE)\n",
    "\n",
    "from core.data_utils import (\n",
    "    contains_only_vietnamese_letters_and_spaces,\n",
    "    clean_upper_case,\n",
    "    clean_words_dict,\n",
    "    get_ngram_from_sentences\n",
    ")"
   ]
  },
  {
   "cell_type": "code",
   "execution_count": 2,
   "metadata": {},
   "outputs": [],
   "source": [
    "from itertools import chain\n",
    "def get_sentences_from_segmented_text(data):\n",
    "    url, file_path, segment_file_path = data\n",
    "    tmp_sentences = []\n",
    "    abs_segment_file_path = base_path + segment_file_path\n",
    "    with open(abs_segment_file_path, 'r') as f:\n",
    "        text = f.read()\n",
    "    for line in text.split('\\n\\n'):\n",
    "        sentence = []\n",
    "        for tmp_text in line.replace('_',' ').replace('\\t',' ').split('\\n'):\n",
    "            if tmp_text:\n",
    "                cleaned_word = tmp_text[2:].strip()\n",
    "                if \" \" not in cleaned_word or not all(word[0].isupper() for word in cleaned_word.split()):\n",
    "                    cleaned_word = cleaned_word.lower()\n",
    "                else:\n",
    "                    cleaned_word = tmp_text[2:].strip()\n",
    "                if not contains_only_vietnamese_letters_and_spaces(cleaned_word):\n",
    "                    if sentence:\n",
    "                        tmp_sentences.append(sentence)\n",
    "                    sentence=[]\n",
    "                    continue\n",
    "\n",
    "                sentence.append(cleaned_word)\n",
    "        if sentence:\n",
    "            tmp_sentences.append(sentence)\n",
    "    return tmp_sentences\n",
    "\n"
   ]
  },
  {
   "cell_type": "markdown",
   "metadata": {},
   "source": [
    "# data from song"
   ]
  },
  {
   "cell_type": "code",
   "execution_count": 3,
   "metadata": {},
   "outputs": [
    {
     "name": "stderr",
     "output_type": "stream",
     "text": [
      "2023-11-11 04:42:39 INFO     Start extracting sentences for: 16203 files\n",
      "2023-11-11 04:43:19 INFO     Done extracting sentences for: 16203 files\n"
     ]
    },
    {
     "data": {
      "text/plain": [
       "256336"
      ]
     },
     "execution_count": 3,
     "metadata": {},
     "output_type": "execute_result"
    }
   ],
   "source": [
    "base_path = os.path.join(PRJ_BASE,'data/song_from_lyricvn_com/')\n",
    "loaded_pd_songs = pd.read_csv(base_path + 'songs_meta_data.csv')\n",
    "logging.info(f'Start extracting sentences for: {len(loaded_pd_songs)} files')\n",
    "with multiprocessing.Pool(processes=10) as pool:\n",
    "    results = pool.map(get_sentences_from_segmented_text, loaded_pd_songs.values)\n",
    "sentences = list(chain.from_iterable(results))\n",
    "logging.info(f'Done extracting sentences for: {len(loaded_pd_songs)} files')\n",
    "n_gram_phrases = clean_upper_case(get_ngram_from_sentences(sentences))\n",
    "pd.to_pickle(n_gram_phrases, os.path.join(PRJ_BASE,'tmp/dictionary_from_songs_data.pkl'))\n",
    "len(n_gram_phrases)\n"
   ]
  },
  {
   "cell_type": "markdown",
   "metadata": {},
   "source": [
    "# data from tang thu vien"
   ]
  },
  {
   "cell_type": "code",
   "execution_count": 4,
   "metadata": {},
   "outputs": [
    {
     "name": "stderr",
     "output_type": "stream",
     "text": [
      "2023-11-11 04:43:22 INFO     Start extracting sentences for: 22652 files\n",
      "2023-11-11 04:47:40 INFO     Done extracting sentences for: 22652 files\n"
     ]
    },
    {
     "data": {
      "text/plain": [
       "1300826"
      ]
     },
     "execution_count": 4,
     "metadata": {},
     "output_type": "execute_result"
    }
   ],
   "source": [
    "base_path = os.path.join(PRJ_BASE)\n",
    "loaded_pd_truyen = pd.read_csv(base_path + '/data/truyen_from_tangthuvien_vn/truyen_meta_data.csv')[['truyen_url','file_path','segment_file_path']]\n",
    "base_path += '/'\n",
    "\n",
    "logging.info(f'Start extracting sentences for: {len(loaded_pd_truyen)} files')\n",
    "with multiprocessing.Pool(processes=10) as pool:\n",
    "    results = pool.map(get_sentences_from_segmented_text, loaded_pd_truyen.values)\n",
    "sentences = list(chain.from_iterable(results))\n",
    "logging.info(f'Done extracting sentences for: {len(loaded_pd_truyen)} files')\n",
    "n_gram_phrases = clean_upper_case(get_ngram_from_sentences(sentences))\n",
    "\n",
    "pd.to_pickle(n_gram_phrases, os.path.join(PRJ_BASE,'tmp/dictionary_from_truyen_data.pkl'))\n",
    "len(n_gram_phrases)"
   ]
  },
  {
   "cell_type": "code",
   "execution_count": null,
   "metadata": {},
   "outputs": [],
   "source": []
  }
 ],
 "metadata": {
  "kernelspec": {
   "display_name": "nlp_env",
   "language": "python",
   "name": "python3"
  },
  "language_info": {
   "codemirror_mode": {
    "name": "ipython",
    "version": 3
   },
   "file_extension": ".py",
   "mimetype": "text/x-python",
   "name": "python",
   "nbconvert_exporter": "python",
   "pygments_lexer": "ipython3",
   "version": "3.11.5"
  },
  "orig_nbformat": 4
 },
 "nbformat": 4,
 "nbformat_minor": 2
}
