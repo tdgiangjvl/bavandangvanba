{
 "cells": [
  {
   "cell_type": "code",
   "execution_count": 13,
   "metadata": {},
   "outputs": [],
   "source": [
    "import json\n",
    "am_tieng_viet = {\n",
    "    \"nguyên âm\" : ['a', 'ă', 'â', 'e', 'ê', 'i', 'o', 'ô', 'ơ', 'u', 'ư', 'y'],\n",
    "    \"phụ âm\" : ['b', 'c', 'd', 'đ', 'g', 'h', 'k', 'l', 'm', 'n', 'p', 'q', 'r', 's', 't', 'v', 'x'],\n",
    "    \"vần đơn\" : ['a', 'ă', 'â', 'e', 'ê', 'i', 'o', 'ô', 'ơ', 'u', 'ư', 'y'],\n",
    "    \"vần trơn\" : ['ia', 'ua', 'ưa', 'oi', 'ai', 'ôi', 'ơi', 'ui', 'ưi', 'uôi', 'ươi', 'ay', 'ây', 'eo', 'ao', 'au', 'âu', 'iu', 'êu', 'iêu', 'yêu', 'ưu', 'ươu'],\n",
    "    \"vần cản\" : ['on', 'an', 'ân', 'ăn', 'ôn', 'ơn', 'en', 'ên', 'in', 'un', 'iên', 'yên', 'uôn', 'ươn', 'ong', 'ông', 'ăng', 'âng', 'ung', 'ưng', 'eng', 'iêng', 'uông', 'ương', 'ang', 'anh', 'inh', 'ênh', 'om', 'am', 'ăm', 'âm', 'ôm', 'ơm', 'em', 'êm', 'im', 'um', 'iêm', 'yêm', 'uôm', 'ươm', 'ot', 'at', 'ăt', 'ât', 'ôt', 'ơt', 'et', 'êt', 'ut', 'ưt', 'it', 'iêt', 'uôt', 'ươt', 'oc', 'ac', 'ăc', 'âc', 'uc', 'ưc', 'ôc', 'uôc', 'iêc', 'ươc', 'ach', 'ich', 'êch', 'op', 'ap', 'ăp', 'âp', 'ôp', 'ơp', 'ep', 'êp', 'ip', 'up', 'iêp', 'ươp', 'oa', 'oe', 'oai', 'oay', 'oan', 'oăn', 'oang', 'oăng', 'oanh', 'oach', 'oat', 'oăt', 'ue', 'uy', 'ươ', 'uya', 'uân', 'uyên', 'uat', 'uyêt', 'uynh', 'uych'],\n",
    "    \"mapping dấu\" : {'a': 'a', 'á': 'a', 'à': 'a', 'ả': 'a', 'ã': 'a', 'ạ': 'a',\n",
    "                     'ă': 'ă', 'ắ': 'ă', 'ằ': 'ă', 'ẳ': 'ă', 'ẵ': 'ă', 'ặ': 'ă',\n",
    "                     'â': 'â', 'ấ': 'â', 'ầ': 'â', 'ẩ': 'â', 'ẫ': 'â', 'ậ': 'â',\n",
    "                     'e': 'e', 'é': 'e', 'è': 'e', 'ẻ': 'e', 'ẽ': 'e', 'ẹ': 'e',\n",
    "                     'ê': 'ê', 'ế': 'ê', 'ề': 'ê', 'ể': 'ê', 'ễ': 'ê', 'ệ': 'ê',\n",
    "                     'i': 'i', 'í': 'i', 'ì': 'i', 'ỉ': 'i', 'ĩ': 'i', 'ị': 'i',\n",
    "                     'o': 'o', 'ó': 'o', 'ò': 'o', 'ỏ': 'o', 'õ': 'o', 'ọ': 'o',\n",
    "                     'ô': 'ô', 'ố': 'ô', 'ồ': 'ô', 'ổ': 'ô', 'ỗ': 'ô', 'ộ': 'ô',\n",
    "                     'ơ': 'ơ', 'ớ': 'ơ', 'ờ': 'ơ', 'ở': 'ơ', 'ỡ': 'ơ', 'ợ': 'ơ',\n",
    "                     'u': 'u', 'ú': 'u', 'ù': 'u', 'ủ': 'u', 'ũ': 'u', 'ụ': 'u',\n",
    "                     'ư': 'ư', 'ứ': 'ư', 'ừ': 'ư', 'ử': 'ư', 'ữ': 'ư', 'ự': 'ư',\n",
    "                     'y': 'y', 'ý': 'y', 'ỳ': 'y', 'ỷ': 'y', 'ỹ': 'y', 'ỵ': 'y'}\n",
    "}\n",
    "# Write the dictionary to a JSON file\n",
    "with open('data/am_tieng_viet.json', 'w', encoding = 'utf-8') as file:\n",
    "    json.dump(am_tieng_viet, file)"
   ]
  },
  {
   "cell_type": "code",
   "execution_count": 27,
   "metadata": {},
   "outputs": [
    {
     "name": "stdout",
     "output_type": "stream",
     "text": [
      "['on', 'an', 'ân', 'ăn', 'ôn', 'ơn', 'en', 'ên', 'in', 'un', 'iên', 'yên', 'uôn', 'ươn', 'ong', 'ông', 'ăng', 'âng', 'ung', 'ưng', 'eng', 'iêng', 'uông', 'ương', 'ang', 'anh', 'inh', 'ênh', 'om', 'am', 'ăm', 'âm', 'ôm', 'ơm', 'em', 'êm', 'im', 'um', 'iêm', 'yêm', 'uôm', 'ươm', 'ot', 'at', 'ăt', 'ât', 'ôt', 'ơt', 'et', 'êt', 'ut', 'ưt', 'it', 'iêt', 'uôt', 'ươt', 'oc', 'ac', 'ăc', 'âc', 'uc', 'ưc', 'ôc', 'uôc', 'iêc', 'ươc', 'ach', 'ich', 'êch', 'op', 'ap', 'ăp', 'âp', 'ôp', 'ơp', 'ep', 'êp', 'ip', 'up', 'iêp', 'ươp', 'oa', 'oe', 'oai', 'oay', 'oan', 'oăn', 'oang', 'oăng', 'oanh', 'oach', 'oat', 'oăt', 'ue', 'uy', 'ươ', 'uya', 'uân', 'uyên', 'uat', 'uyêt', 'uynh', 'uych']\n"
     ]
    }
   ],
   "source": [
    "print('''on an ân ăn ôn ơn en ên in un\n",
    "      iên yên uôn ươn ong ông ăng âng ung ưng eng\n",
    "      iêng uông ương ang anh inh ênh om am ăm âm\n",
    "      ôm ơm em êm im um iêm yêm uôm ươm ot\n",
    "      at ăt ât ôt ơt et êt ut ưt it iêt\n",
    "      uôt ươt oc ac ăc âc uc ưc ôc uôc iêc\n",
    "      ươc ach ich êch op ap ăp âp ôp ơp ep\n",
    "      êp ip up iêp ươp oa oe oai oay oan oăn\n",
    "      oang oăng oanh oach oat oăt ue uy ươ uya uân\n",
    "      uyên uat uyêt uynh uych'''.split())"
   ]
  },
  {
   "cell_type": "code",
   "execution_count": 1,
   "metadata": {},
   "outputs": [],
   "source": [
    "mapping = {}\n",
    "\n",
    "for line in '''\n",
    "a á à ả ã ạ\n",
    "ă ắ ằ ẳ ẵ ặ\n",
    "â ấ ầ ẩ ẫ ậ\n",
    "e é è ẻ ẽ ẹ\n",
    "ê ế ề ể ễ ệ\n",
    "i í ì ỉ ĩ ị\n",
    "o ó ò ỏ õ ọ\n",
    "ô ố ồ ổ ỗ ộ\n",
    "ơ ớ ờ ở ỡ ợ\n",
    "u ú ù ủ ũ ụ\n",
    "ư ứ ừ ử ữ ự\n",
    "y ý ỳ ỷ ỹ ỵ\n",
    "'''.split('\\n'):\n",
    "    vans = line.split()\n",
    "    for van in vans:\n",
    "         mapping[van] = vans[0]"
   ]
  },
  {
   "cell_type": "code",
   "execution_count": 3,
   "metadata": {},
   "outputs": [
    {
     "name": "stdout",
     "output_type": "stream",
     "text": [
      "{'a': 'a', 'á': 'a', 'à': 'a', 'ả': 'a', 'ã': 'a', 'ạ': 'a', 'ă': 'ă', 'ắ': 'ă', 'ằ': 'ă', 'ẳ': 'ă', 'ẵ': 'ă', 'ặ': 'ă', 'â': 'â', 'ấ': 'â', 'ầ': 'â', 'ẩ': 'â', 'ẫ': 'â', 'ậ': 'â', 'e': 'e', 'é': 'e', 'è': 'e', 'ẻ': 'e', 'ẽ': 'e', 'ẹ': 'e', 'ê': 'ê', 'ế': 'ê', 'ề': 'ê', 'ể': 'ê', 'ễ': 'ê', 'ệ': 'ê', 'i': 'i', 'í': 'i', 'ì': 'i', 'ỉ': 'i', 'ĩ': 'i', 'ị': 'i', 'o': 'o', 'ó': 'o', 'ò': 'o', 'ỏ': 'o', 'õ': 'o', 'ọ': 'o', 'ô': 'ô', 'ố': 'ô', 'ồ': 'ô', 'ổ': 'ô', 'ỗ': 'ô', 'ộ': 'ô', 'ơ': 'ơ', 'ớ': 'ơ', 'ờ': 'ơ', 'ở': 'ơ', 'ỡ': 'ơ', 'ợ': 'ơ', 'u': 'u', 'ú': 'u', 'ù': 'u', 'ủ': 'u', 'ũ': 'u', 'ụ': 'u', 'ư': 'ư', 'ứ': 'ư', 'ừ': 'ư', 'ử': 'ư', 'ữ': 'ư', 'ự': 'ư', 'y': 'y', 'ý': 'y', 'ỳ': 'y', 'ỷ': 'y', 'ỹ': 'y', 'ỵ': 'y'}\n"
     ]
    }
   ],
   "source": [
    "print(mapping)"
   ]
  },
  {
   "cell_type": "code",
   "execution_count": 1,
   "metadata": {},
   "outputs": [],
   "source": [
    "# draft"
   ]
  },
  {
   "cell_type": "code",
   "execution_count": 4,
   "metadata": {},
   "outputs": [],
   "source": [
    "so_chuong_truyen = {\n",
    "    \"ta-xac-chet-phong-dang-khong-bi-troi-buoc\" : 151,\n",
    "    \"thien-dao-do-thu-quan-convert\": 2264,\n",
    "    \"tu-chan-lieu-thien-quan\": 3171,\n",
    "    \"xuyen-nhanh-nam-than-co-chu%CC%81t-chay!\" : 2652,\n",
    "    \"nu-phu-khong-lan-vao-khoai-xuyen\" : 475,\n",
    "    \"dap-noi-ban-sat-di-hoc\" : 337,\n",
    "    \"xuyen-thu-tho-he-kho-nu\" : 252,\n",
    "    \"nhan-vat-phan-dien-hom-nay-cung-that-ngoan\" : 1192,\n",
    "    \"khoai-xuyen-he-thong-nhan-vat-phan-dien-boss-dot-kich!\" : 1666,\n",
    "    \"tieu-yeu-the\" : 758,\n",
    "    \"su-phu-lai-rot-tuyen\" : 704,\n",
    "    \"khoai-xuyen-moi-lan-deu-la-ta-nam-thuong\" : 2020,\n",
    "}"
   ]
  },
  {
   "cell_type": "code",
   "execution_count": 5,
   "metadata": {},
   "outputs": [
    {
     "data": {
      "text/plain": [
       "15642"
      ]
     },
     "execution_count": 5,
     "metadata": {},
     "output_type": "execute_result"
    }
   ],
   "source": [
    "sum(map(lambda x: so_chuong_truyen[x], so_chuong_truyen))"
   ]
  },
  {
   "cell_type": "code",
   "execution_count": null,
   "metadata": {},
   "outputs": [],
   "source": []
  }
 ],
 "metadata": {
  "kernelspec": {
   "display_name": "nlp_env",
   "language": "python",
   "name": "python3"
  },
  "language_info": {
   "codemirror_mode": {
    "name": "ipython",
    "version": 3
   },
   "file_extension": ".py",
   "mimetype": "text/x-python",
   "name": "python",
   "nbconvert_exporter": "python",
   "pygments_lexer": "ipython3",
   "version": "3.11.5"
  },
  "orig_nbformat": 4
 },
 "nbformat": 4,
 "nbformat_minor": 2
}
